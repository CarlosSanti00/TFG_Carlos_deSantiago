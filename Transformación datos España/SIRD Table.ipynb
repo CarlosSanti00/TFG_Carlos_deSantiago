{
 "cells": [
  {
   "cell_type": "markdown",
   "metadata": {},
   "source": [
    "# Creation of the SIRD Table"
   ]
  },
  {
   "cell_type": "code",
   "execution_count": 1,
   "metadata": {},
   "outputs": [],
   "source": [
    "import matplotlib.pyplot as plt \n",
    "%matplotlib inline\n",
    "import pandas as pd\n",
    "import numpy as np\n",
    "from IPython import display"
   ]
  },
  {
   "cell_type": "markdown",
   "metadata": {},
   "source": [
    "## 1. SIRD Raw Table"
   ]
  },
  {
   "cell_type": "code",
   "execution_count": 2,
   "metadata": {},
   "outputs": [
    {
     "data": {
      "text/plain": [
       "['Confirmed_Spain.csv',\n",
       " 'Deaths_Spain.csv',\n",
       " 'Recovered_Spain.csv',\n",
       " 'SIRD(Raw)_Spain.csv',\n",
       " 'SIRD_Spain.csv',\n",
       " 'Susceptibles_Spain.csv']"
      ]
     },
     "execution_count": 2,
     "metadata": {},
     "output_type": "execute_result"
    }
   ],
   "source": [
    "import os\n",
    "list_files = os.listdir()  # List of files in current directory\n",
    "\n",
    "import re\n",
    "files_desired = []\n",
    "\n",
    "# Loop for obtaining the specific files with the desired information\n",
    "for file in list_files:\n",
    "    result = re.findall('[0-9A-Za-z()_]*_Spain.csv$', file)\n",
    "    if result:\n",
    "        result = ''.join(result)\n",
    "        files_desired.append(result)\n",
    "        \n",
    "files_desired"
   ]
  },
  {
   "cell_type": "code",
   "execution_count": 3,
   "metadata": {},
   "outputs": [],
   "source": [
    "# Labels of the columns from which I want to extract values\n",
    "labels_desired = ['Accumulated Alive Confirmed in 14 days', 'Total Recovered',\n",
    "                  'Total Deaths Fixed (sum New Deaths)', 'Total Susceptibles']"
   ]
  },
  {
   "cell_type": "code",
   "execution_count": 4,
   "metadata": {},
   "outputs": [
    {
     "data": {
      "text/plain": [
       "4"
      ]
     },
     "execution_count": 4,
     "metadata": {},
     "output_type": "execute_result"
    }
   ],
   "source": [
    "# Obtaining a list with the arrays of Confirmed, Deaths and Recovered\n",
    "\n",
    "values = []\n",
    "for i in range(len(files_desired)):\n",
    "    df = pd.read_csv(files_desired[i])  # Creation of dataframe for each file\n",
    "    # Try every label: only 1 is going to match with each file/dataframe\n",
    "    for j in range(len(labels_desired)):\n",
    "        try:\n",
    "            values.append(df[labels_desired[j]].to_numpy())\n",
    "        except Exception:\n",
    "            pass\n",
    "\n",
    "# First is Confirmed, Second is Deaths, Third is Recovered, Fourth is Susceptibles\n",
    "len(values)"
   ]
  },
  {
   "cell_type": "code",
   "execution_count": 5,
   "metadata": {},
   "outputs": [
    {
     "data": {
      "text/plain": [
       "(787, 173683, 787, 103973, 787, 11185964, 787, 35868994)"
      ]
     },
     "execution_count": 5,
     "metadata": {},
     "output_type": "execute_result"
    }
   ],
   "source": [
    "# Creation of individual arrays\n",
    "I = values[0]\n",
    "D = values[1]\n",
    "R = values[2]\n",
    "S = values[3]\n",
    "len(I), I[-1], len(D), D[-1], len(R), R[-1], len(S), S[-1]"
   ]
  },
  {
   "cell_type": "code",
   "execution_count": 6,
   "metadata": {
    "scrolled": true
   },
   "outputs": [
    {
     "data": {
      "text/plain": [
       "(array(['ESP', 'ESP', 'ESP', 'ESP', 'ESP'], dtype=object),\n",
       " array(['Europe', 'Europe', 'Europe', 'Europe', 'Europe'], dtype=object),\n",
       " array(['Spain', 'Spain', 'Spain', 'Spain', 'Spain'], dtype=object),\n",
       " array(['2020-01-28', '2020-01-29', '2020-01-30', '2020-01-31',\n",
       "        '2020-02-01'], dtype=object))"
      ]
     },
     "execution_count": 6,
     "metadata": {},
     "output_type": "execute_result"
    }
   ],
   "source": [
    "# Arrays which will form the final dataframe\n",
    "iso_code = df.values[:, 0]\n",
    "continent = df.values[:, 1]\n",
    "region = df.values[:, 2]\n",
    "dates = df.values[:, 3]\n",
    "\n",
    "iso_code[0:5], continent[0:5], region[0:5], dates[0:5]"
   ]
  },
  {
   "cell_type": "code",
   "execution_count": 7,
   "metadata": {
    "scrolled": true
   },
   "outputs": [
    {
     "data": {
      "text/plain": [
       "(787,\n",
       " array([47332614, 47332614, 47332614, 47332614, 47332614, 47332614,\n",
       "        47332614, 47332614, 47332614, 47332614, 47332614, 47332614,\n",
       "        47332614, 47332614, 47332614, 47332614, 47332614, 47332614,\n",
       "        47332614, 47332614], dtype=object),\n",
       " array([47332614, 47332614, 47332614, 47332614, 47332614, 47332614,\n",
       "        47332614, 47332614, 47332614, 47332614, 47332614, 47332614,\n",
       "        47332614, 47332614, 47332614, 47332614, 47332614, 47332614,\n",
       "        47332614, 47332614], dtype=object))"
      ]
     },
     "execution_count": 7,
     "metadata": {},
     "output_type": "execute_result"
    }
   ],
   "source": [
    "# Array with total population for each time (should be constant)\n",
    "N = np.empty(len(S), dtype = object)\n",
    "\n",
    "for i in range(len(S)):\n",
    "    N[i] = S[i] + I[i] + R[i] + D[i]\n",
    "    \n",
    "len(N), N[0:20], N[100:120]"
   ]
  },
  {
   "cell_type": "code",
   "execution_count": 8,
   "metadata": {},
   "outputs": [
    {
     "data": {
      "text/plain": [
       "(787,\n",
       " array([47332614, 47332614, 47332614, 47332614, 47332614, 47332614,\n",
       "        47332614, 47332614, 47332614, 47332614, 47332614, 47332614,\n",
       "        47332614, 47332614, 47332614, 47332614, 47332614, 47332614,\n",
       "        47332614, 47332614], dtype=object),\n",
       " array([47306544, 47306315, 47306136, 47305993, 47305870, 47305694,\n",
       "        47305510, 47305293, 47305155, 47305051, 47305051, 47304905,\n",
       "        47304836, 47304726, 47304674, 47303986, 47303936, 47303862,\n",
       "        47303862, 47303579], dtype=object))"
      ]
     },
     "execution_count": 8,
     "metadata": {},
     "output_type": "execute_result"
    }
   ],
   "source": [
    "# Array with total population minus total deaths\n",
    "N_no_deaths = np.empty(len(S), dtype = object)\n",
    "\n",
    "for i in range(len(S)):\n",
    "    N_no_deaths[i] = S[i] + I[i] + R[i]\n",
    "    \n",
    "len(N_no_deaths), N_no_deaths[0:20], N_no_deaths[100:120]"
   ]
  },
  {
   "cell_type": "code",
   "execution_count": 9,
   "metadata": {},
   "outputs": [
    {
     "data": {
      "text/plain": [
       "((787, 10),\n",
       " array([['ESP', 'Europe', 'Spain', '2020-01-28', 47332614, 0, 0, 0,\n",
       "         47332614, 47332614],\n",
       "        ['ESP', 'Europe', 'Spain', '2020-01-29', 47332614, 0, 0, 0,\n",
       "         47332614, 47332614],\n",
       "        ['ESP', 'Europe', 'Spain', '2020-01-30', 47332614, 0, 0, 0,\n",
       "         47332614, 47332614],\n",
       "        ['ESP', 'Europe', 'Spain', '2020-01-31', 47332614, 0, 0, 0,\n",
       "         47332614, 47332614],\n",
       "        ['ESP', 'Europe', 'Spain', '2020-02-01', 47332613, 1, 0, 0,\n",
       "         47332614, 47332614],\n",
       "        ['ESP', 'Europe', 'Spain', '2020-02-02', 47332613, 1, 0, 0,\n",
       "         47332614, 47332614],\n",
       "        ['ESP', 'Europe', 'Spain', '2020-02-03', 47332613, 1, 0, 0,\n",
       "         47332614, 47332614],\n",
       "        ['ESP', 'Europe', 'Spain', '2020-02-04', 47332613, 1, 0, 0,\n",
       "         47332614, 47332614],\n",
       "        ['ESP', 'Europe', 'Spain', '2020-02-05', 47332613, 1, 0, 0,\n",
       "         47332614, 47332614],\n",
       "        ['ESP', 'Europe', 'Spain', '2020-02-06', 47332613, 1, 0, 0,\n",
       "         47332614, 47332614]], dtype=object))"
      ]
     },
     "execution_count": 9,
     "metadata": {},
     "output_type": "execute_result"
    }
   ],
   "source": [
    "# Array concatenation for building the final dataframe\n",
    "\n",
    "columns = 10  # Number of columns\n",
    "X_total = np.empty((len(S), columns), dtype = object)\n",
    "\n",
    "for i in range(len(S)):\n",
    "    X_total[i] = [iso_code[i], continent[i], region[i], dates[i], S[i], I[i], R[i], D[i], N[i], N_no_deaths[i]]\n",
    "    \n",
    "X_total.shape, X_total[0:10]"
   ]
  },
  {
   "cell_type": "code",
   "execution_count": 10,
   "metadata": {},
   "outputs": [],
   "source": [
    "# Labels of each column of the dataframe\n",
    "labels = ['ISO_code', 'Continent', 'Country/Region', 'Date', 'Susceptibles Raw (S)', 'Infected Raw (I)',\n",
    "          'Recovered Raw (R)', 'Deaths Raw (D)', 'Total Population (N)', 'Total Population Without Deahts (N Alive)']"
   ]
  },
  {
   "cell_type": "code",
   "execution_count": 11,
   "metadata": {},
   "outputs": [
    {
     "data": {
      "text/html": [
       "<div>\n",
       "<style scoped>\n",
       "    .dataframe tbody tr th:only-of-type {\n",
       "        vertical-align: middle;\n",
       "    }\n",
       "\n",
       "    .dataframe tbody tr th {\n",
       "        vertical-align: top;\n",
       "    }\n",
       "\n",
       "    .dataframe thead th {\n",
       "        text-align: right;\n",
       "    }\n",
       "</style>\n",
       "<table border=\"1\" class=\"dataframe\">\n",
       "  <thead>\n",
       "    <tr style=\"text-align: right;\">\n",
       "      <th></th>\n",
       "      <th>ISO_code</th>\n",
       "      <th>Continent</th>\n",
       "      <th>Country/Region</th>\n",
       "      <th>Date</th>\n",
       "      <th>Susceptibles Raw (S)</th>\n",
       "      <th>Infected Raw (I)</th>\n",
       "      <th>Recovered Raw (R)</th>\n",
       "      <th>Deaths Raw (D)</th>\n",
       "      <th>Total Population (N)</th>\n",
       "      <th>Total Population Without Deahts (N Alive)</th>\n",
       "    </tr>\n",
       "  </thead>\n",
       "  <tbody>\n",
       "    <tr>\n",
       "      <th>0</th>\n",
       "      <td>ESP</td>\n",
       "      <td>Europe</td>\n",
       "      <td>Spain</td>\n",
       "      <td>2020-01-28</td>\n",
       "      <td>47332614</td>\n",
       "      <td>0</td>\n",
       "      <td>0</td>\n",
       "      <td>0</td>\n",
       "      <td>47332614</td>\n",
       "      <td>47332614</td>\n",
       "    </tr>\n",
       "    <tr>\n",
       "      <th>1</th>\n",
       "      <td>ESP</td>\n",
       "      <td>Europe</td>\n",
       "      <td>Spain</td>\n",
       "      <td>2020-01-29</td>\n",
       "      <td>47332614</td>\n",
       "      <td>0</td>\n",
       "      <td>0</td>\n",
       "      <td>0</td>\n",
       "      <td>47332614</td>\n",
       "      <td>47332614</td>\n",
       "    </tr>\n",
       "    <tr>\n",
       "      <th>2</th>\n",
       "      <td>ESP</td>\n",
       "      <td>Europe</td>\n",
       "      <td>Spain</td>\n",
       "      <td>2020-01-30</td>\n",
       "      <td>47332614</td>\n",
       "      <td>0</td>\n",
       "      <td>0</td>\n",
       "      <td>0</td>\n",
       "      <td>47332614</td>\n",
       "      <td>47332614</td>\n",
       "    </tr>\n",
       "    <tr>\n",
       "      <th>3</th>\n",
       "      <td>ESP</td>\n",
       "      <td>Europe</td>\n",
       "      <td>Spain</td>\n",
       "      <td>2020-01-31</td>\n",
       "      <td>47332614</td>\n",
       "      <td>0</td>\n",
       "      <td>0</td>\n",
       "      <td>0</td>\n",
       "      <td>47332614</td>\n",
       "      <td>47332614</td>\n",
       "    </tr>\n",
       "    <tr>\n",
       "      <th>4</th>\n",
       "      <td>ESP</td>\n",
       "      <td>Europe</td>\n",
       "      <td>Spain</td>\n",
       "      <td>2020-02-01</td>\n",
       "      <td>47332613</td>\n",
       "      <td>1</td>\n",
       "      <td>0</td>\n",
       "      <td>0</td>\n",
       "      <td>47332614</td>\n",
       "      <td>47332614</td>\n",
       "    </tr>\n",
       "    <tr>\n",
       "      <th>...</th>\n",
       "      <td>...</td>\n",
       "      <td>...</td>\n",
       "      <td>...</td>\n",
       "      <td>...</td>\n",
       "      <td>...</td>\n",
       "      <td>...</td>\n",
       "      <td>...</td>\n",
       "      <td>...</td>\n",
       "      <td>...</td>\n",
       "      <td>...</td>\n",
       "    </tr>\n",
       "    <tr>\n",
       "      <th>782</th>\n",
       "      <td>ESP</td>\n",
       "      <td>Europe</td>\n",
       "      <td>Spain</td>\n",
       "      <td>2022-03-20</td>\n",
       "      <td>35923141</td>\n",
       "      <td>222919</td>\n",
       "      <td>11082931</td>\n",
       "      <td>103623</td>\n",
       "      <td>47332614</td>\n",
       "      <td>47228991</td>\n",
       "    </tr>\n",
       "    <tr>\n",
       "      <th>783</th>\n",
       "      <td>ESP</td>\n",
       "      <td>Europe</td>\n",
       "      <td>Spain</td>\n",
       "      <td>2022-03-21</td>\n",
       "      <td>35923141</td>\n",
       "      <td>187083</td>\n",
       "      <td>11118767</td>\n",
       "      <td>103623</td>\n",
       "      <td>47332614</td>\n",
       "      <td>47228991</td>\n",
       "    </tr>\n",
       "    <tr>\n",
       "      <th>784</th>\n",
       "      <td>ESP</td>\n",
       "      <td>Europe</td>\n",
       "      <td>Spain</td>\n",
       "      <td>2022-03-22</td>\n",
       "      <td>35868994</td>\n",
       "      <td>218016</td>\n",
       "      <td>11141631</td>\n",
       "      <td>103973</td>\n",
       "      <td>47332614</td>\n",
       "      <td>47228641</td>\n",
       "    </tr>\n",
       "    <tr>\n",
       "      <th>785</th>\n",
       "      <td>ESP</td>\n",
       "      <td>Europe</td>\n",
       "      <td>Spain</td>\n",
       "      <td>2022-03-23</td>\n",
       "      <td>35868994</td>\n",
       "      <td>196213</td>\n",
       "      <td>11163434</td>\n",
       "      <td>103973</td>\n",
       "      <td>47332614</td>\n",
       "      <td>47228641</td>\n",
       "    </tr>\n",
       "    <tr>\n",
       "      <th>786</th>\n",
       "      <td>ESP</td>\n",
       "      <td>Europe</td>\n",
       "      <td>Spain</td>\n",
       "      <td>2022-03-24</td>\n",
       "      <td>35868994</td>\n",
       "      <td>173683</td>\n",
       "      <td>11185964</td>\n",
       "      <td>103973</td>\n",
       "      <td>47332614</td>\n",
       "      <td>47228641</td>\n",
       "    </tr>\n",
       "  </tbody>\n",
       "</table>\n",
       "<p>787 rows × 10 columns</p>\n",
       "</div>"
      ],
      "text/plain": [
       "    ISO_code Continent Country/Region        Date Susceptibles Raw (S)  \\\n",
       "0        ESP    Europe          Spain  2020-01-28             47332614   \n",
       "1        ESP    Europe          Spain  2020-01-29             47332614   \n",
       "2        ESP    Europe          Spain  2020-01-30             47332614   \n",
       "3        ESP    Europe          Spain  2020-01-31             47332614   \n",
       "4        ESP    Europe          Spain  2020-02-01             47332613   \n",
       "..       ...       ...            ...         ...                  ...   \n",
       "782      ESP    Europe          Spain  2022-03-20             35923141   \n",
       "783      ESP    Europe          Spain  2022-03-21             35923141   \n",
       "784      ESP    Europe          Spain  2022-03-22             35868994   \n",
       "785      ESP    Europe          Spain  2022-03-23             35868994   \n",
       "786      ESP    Europe          Spain  2022-03-24             35868994   \n",
       "\n",
       "    Infected Raw (I) Recovered Raw (R) Deaths Raw (D) Total Population (N)  \\\n",
       "0                  0                 0              0             47332614   \n",
       "1                  0                 0              0             47332614   \n",
       "2                  0                 0              0             47332614   \n",
       "3                  0                 0              0             47332614   \n",
       "4                  1                 0              0             47332614   \n",
       "..               ...               ...            ...                  ...   \n",
       "782           222919          11082931         103623             47332614   \n",
       "783           187083          11118767         103623             47332614   \n",
       "784           218016          11141631         103973             47332614   \n",
       "785           196213          11163434         103973             47332614   \n",
       "786           173683          11185964         103973             47332614   \n",
       "\n",
       "    Total Population Without Deahts (N Alive)  \n",
       "0                                    47332614  \n",
       "1                                    47332614  \n",
       "2                                    47332614  \n",
       "3                                    47332614  \n",
       "4                                    47332614  \n",
       "..                                        ...  \n",
       "782                                  47228991  \n",
       "783                                  47228991  \n",
       "784                                  47228641  \n",
       "785                                  47228641  \n",
       "786                                  47228641  \n",
       "\n",
       "[787 rows x 10 columns]"
      ]
     },
     "execution_count": 11,
     "metadata": {},
     "output_type": "execute_result"
    }
   ],
   "source": [
    "# Creation of the final dataframe\n",
    "df_SIRD_raw = pd.DataFrame(data=X_total, columns=labels)\n",
    "df_SIRD_raw"
   ]
  },
  {
   "cell_type": "code",
   "execution_count": 12,
   "metadata": {},
   "outputs": [],
   "source": [
    "# Export dataframe to a csv file\n",
    "\n",
    "from pathlib import Path  \n",
    "filepath = Path('SIRD(Raw)_Spain.csv')  \n",
    "filepath.parent.mkdir(parents=True, exist_ok=True)  \n",
    "df_SIRD_raw.to_csv(filepath, index=False)"
   ]
  },
  {
   "cell_type": "markdown",
   "metadata": {},
   "source": [
    "## 2. SIRD Smooth Table"
   ]
  },
  {
   "cell_type": "code",
   "execution_count": 13,
   "metadata": {},
   "outputs": [
    {
     "data": {
      "text/plain": [
       "['Confirmed_Spain.csv',\n",
       " 'Deaths_Spain.csv',\n",
       " 'Recovered_Spain.csv',\n",
       " 'SIRD(Raw)_Spain.csv',\n",
       " 'SIRD_Spain.csv',\n",
       " 'Susceptibles_Spain.csv']"
      ]
     },
     "execution_count": 13,
     "metadata": {},
     "output_type": "execute_result"
    }
   ],
   "source": [
    "import os\n",
    "list_files = os.listdir()  # List of files in current directory\n",
    "\n",
    "import re\n",
    "files_desired = []\n",
    "\n",
    "# Loop for obtaining the specific files with the desired information\n",
    "for file in list_files:\n",
    "    result = re.findall('[0-9A-Za-z()_]*_Spain.csv$', file)\n",
    "    if result:\n",
    "        result = ''.join(result)\n",
    "        files_desired.append(result)\n",
    "        \n",
    "files_desired"
   ]
  },
  {
   "cell_type": "code",
   "execution_count": 14,
   "metadata": {},
   "outputs": [],
   "source": [
    "# Labels of the columns from which I want to extract values\n",
    "labels_desired = ['Accumulated Alive Confirmed Smooth in 14 days', 'Total Recovered Smooth (7 days)',\n",
    "                  'Total Deaths Fixed Smooth (7 days)', 'Susceptibles Smooth (7 days average)']"
   ]
  },
  {
   "cell_type": "code",
   "execution_count": 15,
   "metadata": {},
   "outputs": [
    {
     "data": {
      "text/plain": [
       "4"
      ]
     },
     "execution_count": 15,
     "metadata": {},
     "output_type": "execute_result"
    }
   ],
   "source": [
    "# Obtaining a list with the arrays of Confirmed, Deaths and Recovered\n",
    "\n",
    "values = []\n",
    "for i in range(len(files_desired)):\n",
    "    df = pd.read_csv(files_desired[i])  # Creation of dataframe for each file\n",
    "    # Try every label: only 1 is going to match with each file/dataframe\n",
    "    for j in range(len(labels_desired)):\n",
    "        try:\n",
    "            values.append(df[labels_desired[j]].to_numpy())\n",
    "        except Exception:\n",
    "            pass\n",
    "\n",
    "# First is Confirmed, Second is Deaths, Third is Recovered, Fourth is Susceptibles\n",
    "len(values)"
   ]
  },
  {
   "cell_type": "code",
   "execution_count": 16,
   "metadata": {},
   "outputs": [
    {
     "data": {
      "text/plain": [
       "(787,\n",
       " 206250.2857142857,\n",
       " 787,\n",
       " 103773.0,\n",
       " 787,\n",
       " 11122655.57142857,\n",
       " 787,\n",
       " 35899935.14285715)"
      ]
     },
     "execution_count": 16,
     "metadata": {},
     "output_type": "execute_result"
    }
   ],
   "source": [
    "# Creation of individual arrays\n",
    "I = values[0]\n",
    "D = values[1]\n",
    "R = values[2]\n",
    "S = values[3]\n",
    "\n",
    "len(I), I[-1], len(D), D[-1], len(R), R[-1], len(S), S[-1]"
   ]
  },
  {
   "cell_type": "code",
   "execution_count": 17,
   "metadata": {
    "scrolled": true
   },
   "outputs": [
    {
     "data": {
      "text/plain": [
       "(array(['ESP', 'ESP', 'ESP', 'ESP', 'ESP'], dtype=object),\n",
       " array(['Europe', 'Europe', 'Europe', 'Europe', 'Europe'], dtype=object),\n",
       " array(['Spain', 'Spain', 'Spain', 'Spain', 'Spain'], dtype=object),\n",
       " array(['2020-01-28', '2020-01-29', '2020-01-30', '2020-01-31',\n",
       "        '2020-02-01'], dtype=object))"
      ]
     },
     "execution_count": 17,
     "metadata": {},
     "output_type": "execute_result"
    }
   ],
   "source": [
    "# Arrays which will form the final dataframe\n",
    "iso_code = df.values[:, 0]\n",
    "continent = df.values[:, 1]\n",
    "region = df.values[:, 2]\n",
    "dates = df.values[:, 3]\n",
    "\n",
    "iso_code[0:5], continent[0:5], region[0:5], dates[0:5]"
   ]
  },
  {
   "cell_type": "code",
   "execution_count": 18,
   "metadata": {},
   "outputs": [
    {
     "data": {
      "text/plain": [
       "(787,\n",
       " array([47332614.0, 47332614.0, 47332614.0, 47332614.0, 47332614.0,\n",
       "        47332614.0, 47332614.00000001, 47332614.00000001, 47332614.0,\n",
       "        47332614.0, 47332614.0, 47332614.0, 47332614.0, 47332614.0,\n",
       "        47332614.00000001, 47332614.00000001, 47332614.0, 47332614.0,\n",
       "        47332614.0, 47332614.0], dtype=object),\n",
       " array([47332614.00000001, 47332614.0, 47332614.00000001, 47332614.0,\n",
       "        47332614.0, 47332614.0, 47332614.00000001, 47332614.0, 47332614.0,\n",
       "        47332614.0, 47332614.0, 47332614.0, 47332614.0, 47332614.0,\n",
       "        47332614.0, 47332614.0, 47332614.0, 47332614.0, 47332614.0,\n",
       "        47332614.0], dtype=object))"
      ]
     },
     "execution_count": 18,
     "metadata": {},
     "output_type": "execute_result"
    }
   ],
   "source": [
    "# Array with total population for each time (should be constant)\n",
    "N = np.empty(len(S), dtype = object)\n",
    "\n",
    "for i in range(len(S)):\n",
    "    N[i] = S[i] + I[i] + R[i] + D[i]\n",
    "    \n",
    "len(N), N[0:20], N[100:120]"
   ]
  },
  {
   "cell_type": "code",
   "execution_count": 19,
   "metadata": {},
   "outputs": [
    {
     "data": {
      "text/plain": [
       "(787,\n",
       " array([47332614.0, 47332614.0, 47332614.0, 47332614.0, 47332614.0,\n",
       "        47332614.0, 47332614.00000001, 47332614.00000001, 47332614.0,\n",
       "        47332614.0, 47332614.0, 47332614.0, 47332614.0, 47332614.0,\n",
       "        47332614.00000001, 47332614.00000001, 47332614.0, 47332614.0,\n",
       "        47332614.0, 47332614.0], dtype=object),\n",
       " array([47307203.28571429, 47306952.428571425, 47306755.57142858,\n",
       "        47306561.71428572, 47306373.71428572, 47306187.0,\n",
       "        47306008.857142866, 47305830.14285714, 47305664.428571425,\n",
       "        47305509.428571425, 47305374.85714286, 47305237.0,\n",
       "        47305114.428571425, 47305002.428571425, 47304914.0, 47304747.0,\n",
       "        47304587.71428572, 47304417.85714286, 47304268.85714286,\n",
       "        47304089.28571428], dtype=object))"
      ]
     },
     "execution_count": 19,
     "metadata": {},
     "output_type": "execute_result"
    }
   ],
   "source": [
    "# Array with total population minus total deaths\n",
    "N_no_deaths = np.empty(len(S), dtype = object)\n",
    "\n",
    "for i in range(len(S)):\n",
    "    N_no_deaths[i] = S[i] + I[i] + R[i]\n",
    "    \n",
    "len(N_no_deaths), N_no_deaths[0:20], N_no_deaths[100:120]"
   ]
  },
  {
   "cell_type": "code",
   "execution_count": 20,
   "metadata": {},
   "outputs": [
    {
     "data": {
      "text/plain": [
       "((787, 10),\n",
       " array([['ESP', 'Europe', 'Spain', '2020-01-28', 47332614.0, 0.0, 0.0,\n",
       "         0.0, 47332614.0, 47332614.0],\n",
       "        ['ESP', 'Europe', 'Spain', '2020-01-29', 47332614.0, 0.0, 0.0,\n",
       "         0.0, 47332614.0, 47332614.0],\n",
       "        ['ESP', 'Europe', 'Spain', '2020-01-30', 47332614.0, 0.0, 0.0,\n",
       "         0.0, 47332614.0, 47332614.0],\n",
       "        ['ESP', 'Europe', 'Spain', '2020-01-31', 47332614.0, 0.0, 0.0,\n",
       "         0.0, 47332614.0, 47332614.0],\n",
       "        ['ESP', 'Europe', 'Spain', '2020-02-01', 47332613.85714286,\n",
       "         0.14285714285714285, 0.0, 0.0, 47332614.0, 47332614.0],\n",
       "        ['ESP', 'Europe', 'Spain', '2020-02-02', 47332613.71428572,\n",
       "         0.2857142857142857, 0.0, 0.0, 47332614.0, 47332614.0],\n",
       "        ['ESP', 'Europe', 'Spain', '2020-02-03', 47332613.57142858,\n",
       "         0.42857142857142855, 0.0, 0.0, 47332614.00000001,\n",
       "         47332614.00000001],\n",
       "        ['ESP', 'Europe', 'Spain', '2020-02-04', 47332613.42857143,\n",
       "         0.5714285714285714, 0.0, 0.0, 47332614.00000001,\n",
       "         47332614.00000001],\n",
       "        ['ESP', 'Europe', 'Spain', '2020-02-05', 47332613.28571428,\n",
       "         0.7142857142857143, 0.0, 0.0, 47332614.0, 47332614.0],\n",
       "        ['ESP', 'Europe', 'Spain', '2020-02-06', 47332613.14285714,\n",
       "         0.8571428571428571, 0.0, 0.0, 47332614.0, 47332614.0]],\n",
       "       dtype=object))"
      ]
     },
     "execution_count": 20,
     "metadata": {},
     "output_type": "execute_result"
    }
   ],
   "source": [
    "# Array concatenation for building the final dataframe\n",
    "\n",
    "columns = 10  # Number of columns\n",
    "X_total = np.empty((len(S), columns), dtype = object)\n",
    "\n",
    "for i in range(len(S)):\n",
    "    X_total[i] = [iso_code[i], continent[i], region[i], dates[i], S[i], I[i], R[i], D[i], N[i], N_no_deaths[i]]\n",
    "    \n",
    "X_total.shape, X_total[0:10]"
   ]
  },
  {
   "cell_type": "code",
   "execution_count": 21,
   "metadata": {},
   "outputs": [],
   "source": [
    "# Labels of each column of the dataframe\n",
    "labels = ['ISO_code', 'Continent', 'Country/Region', 'Date', 'Susceptibles Smooth (S)', 'Infected Smooth (I)',\n",
    "          'Recovered Smooth (R)', 'Deaths Smooth (D)', 'Total Population (N)', 'Total Population Without Deahts (N Alive)']"
   ]
  },
  {
   "cell_type": "code",
   "execution_count": 22,
   "metadata": {},
   "outputs": [
    {
     "data": {
      "text/html": [
       "<div>\n",
       "<style scoped>\n",
       "    .dataframe tbody tr th:only-of-type {\n",
       "        vertical-align: middle;\n",
       "    }\n",
       "\n",
       "    .dataframe tbody tr th {\n",
       "        vertical-align: top;\n",
       "    }\n",
       "\n",
       "    .dataframe thead th {\n",
       "        text-align: right;\n",
       "    }\n",
       "</style>\n",
       "<table border=\"1\" class=\"dataframe\">\n",
       "  <thead>\n",
       "    <tr style=\"text-align: right;\">\n",
       "      <th></th>\n",
       "      <th>ISO_code</th>\n",
       "      <th>Continent</th>\n",
       "      <th>Country/Region</th>\n",
       "      <th>Date</th>\n",
       "      <th>Susceptibles Smooth (S)</th>\n",
       "      <th>Infected Smooth (I)</th>\n",
       "      <th>Recovered Smooth (R)</th>\n",
       "      <th>Deaths Smooth (D)</th>\n",
       "      <th>Total Population (N)</th>\n",
       "      <th>Total Population Without Deahts (N Alive)</th>\n",
       "    </tr>\n",
       "  </thead>\n",
       "  <tbody>\n",
       "    <tr>\n",
       "      <th>0</th>\n",
       "      <td>ESP</td>\n",
       "      <td>Europe</td>\n",
       "      <td>Spain</td>\n",
       "      <td>2020-01-28</td>\n",
       "      <td>4.73326e+07</td>\n",
       "      <td>0</td>\n",
       "      <td>0</td>\n",
       "      <td>0</td>\n",
       "      <td>4.73326e+07</td>\n",
       "      <td>4.73326e+07</td>\n",
       "    </tr>\n",
       "    <tr>\n",
       "      <th>1</th>\n",
       "      <td>ESP</td>\n",
       "      <td>Europe</td>\n",
       "      <td>Spain</td>\n",
       "      <td>2020-01-29</td>\n",
       "      <td>4.73326e+07</td>\n",
       "      <td>0</td>\n",
       "      <td>0</td>\n",
       "      <td>0</td>\n",
       "      <td>4.73326e+07</td>\n",
       "      <td>4.73326e+07</td>\n",
       "    </tr>\n",
       "    <tr>\n",
       "      <th>2</th>\n",
       "      <td>ESP</td>\n",
       "      <td>Europe</td>\n",
       "      <td>Spain</td>\n",
       "      <td>2020-01-30</td>\n",
       "      <td>4.73326e+07</td>\n",
       "      <td>0</td>\n",
       "      <td>0</td>\n",
       "      <td>0</td>\n",
       "      <td>4.73326e+07</td>\n",
       "      <td>4.73326e+07</td>\n",
       "    </tr>\n",
       "    <tr>\n",
       "      <th>3</th>\n",
       "      <td>ESP</td>\n",
       "      <td>Europe</td>\n",
       "      <td>Spain</td>\n",
       "      <td>2020-01-31</td>\n",
       "      <td>4.73326e+07</td>\n",
       "      <td>0</td>\n",
       "      <td>0</td>\n",
       "      <td>0</td>\n",
       "      <td>4.73326e+07</td>\n",
       "      <td>4.73326e+07</td>\n",
       "    </tr>\n",
       "    <tr>\n",
       "      <th>4</th>\n",
       "      <td>ESP</td>\n",
       "      <td>Europe</td>\n",
       "      <td>Spain</td>\n",
       "      <td>2020-02-01</td>\n",
       "      <td>4.73326e+07</td>\n",
       "      <td>0.142857</td>\n",
       "      <td>0</td>\n",
       "      <td>0</td>\n",
       "      <td>4.73326e+07</td>\n",
       "      <td>4.73326e+07</td>\n",
       "    </tr>\n",
       "    <tr>\n",
       "      <th>...</th>\n",
       "      <td>...</td>\n",
       "      <td>...</td>\n",
       "      <td>...</td>\n",
       "      <td>...</td>\n",
       "      <td>...</td>\n",
       "      <td>...</td>\n",
       "      <td>...</td>\n",
       "      <td>...</td>\n",
       "      <td>...</td>\n",
       "      <td>...</td>\n",
       "    </tr>\n",
       "    <tr>\n",
       "      <th>782</th>\n",
       "      <td>ESP</td>\n",
       "      <td>Europe</td>\n",
       "      <td>Spain</td>\n",
       "      <td>2022-03-20</td>\n",
       "      <td>3.59652e+07</td>\n",
       "      <td>217216</td>\n",
       "      <td>1.10468e+07</td>\n",
       "      <td>103419</td>\n",
       "      <td>4.73326e+07</td>\n",
       "      <td>4.72292e+07</td>\n",
       "    </tr>\n",
       "    <tr>\n",
       "      <th>783</th>\n",
       "      <td>ESP</td>\n",
       "      <td>Europe</td>\n",
       "      <td>Spain</td>\n",
       "      <td>2022-03-21</td>\n",
       "      <td>3.59508e+07</td>\n",
       "      <td>208981</td>\n",
       "      <td>1.10693e+07</td>\n",
       "      <td>103500</td>\n",
       "      <td>4.73326e+07</td>\n",
       "      <td>4.72291e+07</td>\n",
       "    </tr>\n",
       "    <tr>\n",
       "      <th>784</th>\n",
       "      <td>ESP</td>\n",
       "      <td>Europe</td>\n",
       "      <td>Spain</td>\n",
       "      <td>2022-03-22</td>\n",
       "      <td>3.59339e+07</td>\n",
       "      <td>208352</td>\n",
       "      <td>1.10868e+07</td>\n",
       "      <td>103591</td>\n",
       "      <td>4.73326e+07</td>\n",
       "      <td>4.7229e+07</td>\n",
       "    </tr>\n",
       "    <tr>\n",
       "      <th>785</th>\n",
       "      <td>ESP</td>\n",
       "      <td>Europe</td>\n",
       "      <td>Spain</td>\n",
       "      <td>2022-03-23</td>\n",
       "      <td>3.59169e+07</td>\n",
       "      <td>207272</td>\n",
       "      <td>1.11048e+07</td>\n",
       "      <td>103682</td>\n",
       "      <td>4.73326e+07</td>\n",
       "      <td>4.72289e+07</td>\n",
       "    </tr>\n",
       "    <tr>\n",
       "      <th>786</th>\n",
       "      <td>ESP</td>\n",
       "      <td>Europe</td>\n",
       "      <td>Spain</td>\n",
       "      <td>2022-03-24</td>\n",
       "      <td>3.58999e+07</td>\n",
       "      <td>206250</td>\n",
       "      <td>1.11227e+07</td>\n",
       "      <td>103773</td>\n",
       "      <td>4.73326e+07</td>\n",
       "      <td>4.72288e+07</td>\n",
       "    </tr>\n",
       "  </tbody>\n",
       "</table>\n",
       "<p>787 rows × 10 columns</p>\n",
       "</div>"
      ],
      "text/plain": [
       "    ISO_code Continent Country/Region        Date Susceptibles Smooth (S)  \\\n",
       "0        ESP    Europe          Spain  2020-01-28             4.73326e+07   \n",
       "1        ESP    Europe          Spain  2020-01-29             4.73326e+07   \n",
       "2        ESP    Europe          Spain  2020-01-30             4.73326e+07   \n",
       "3        ESP    Europe          Spain  2020-01-31             4.73326e+07   \n",
       "4        ESP    Europe          Spain  2020-02-01             4.73326e+07   \n",
       "..       ...       ...            ...         ...                     ...   \n",
       "782      ESP    Europe          Spain  2022-03-20             3.59652e+07   \n",
       "783      ESP    Europe          Spain  2022-03-21             3.59508e+07   \n",
       "784      ESP    Europe          Spain  2022-03-22             3.59339e+07   \n",
       "785      ESP    Europe          Spain  2022-03-23             3.59169e+07   \n",
       "786      ESP    Europe          Spain  2022-03-24             3.58999e+07   \n",
       "\n",
       "    Infected Smooth (I) Recovered Smooth (R) Deaths Smooth (D)  \\\n",
       "0                     0                    0                 0   \n",
       "1                     0                    0                 0   \n",
       "2                     0                    0                 0   \n",
       "3                     0                    0                 0   \n",
       "4              0.142857                    0                 0   \n",
       "..                  ...                  ...               ...   \n",
       "782              217216          1.10468e+07            103419   \n",
       "783              208981          1.10693e+07            103500   \n",
       "784              208352          1.10868e+07            103591   \n",
       "785              207272          1.11048e+07            103682   \n",
       "786              206250          1.11227e+07            103773   \n",
       "\n",
       "    Total Population (N) Total Population Without Deahts (N Alive)  \n",
       "0            4.73326e+07                               4.73326e+07  \n",
       "1            4.73326e+07                               4.73326e+07  \n",
       "2            4.73326e+07                               4.73326e+07  \n",
       "3            4.73326e+07                               4.73326e+07  \n",
       "4            4.73326e+07                               4.73326e+07  \n",
       "..                   ...                                       ...  \n",
       "782          4.73326e+07                               4.72292e+07  \n",
       "783          4.73326e+07                               4.72291e+07  \n",
       "784          4.73326e+07                                4.7229e+07  \n",
       "785          4.73326e+07                               4.72289e+07  \n",
       "786          4.73326e+07                               4.72288e+07  \n",
       "\n",
       "[787 rows x 10 columns]"
      ]
     },
     "execution_count": 22,
     "metadata": {},
     "output_type": "execute_result"
    }
   ],
   "source": [
    "# Creation of the final dataframe\n",
    "df_SIRD = pd.DataFrame(data=X_total, columns=labels)\n",
    "df_SIRD"
   ]
  },
  {
   "cell_type": "code",
   "execution_count": 23,
   "metadata": {},
   "outputs": [],
   "source": [
    "# Export dataframe to a csv file\n",
    "\n",
    "from pathlib import Path  \n",
    "filepath = Path('SIRD_Spain.csv')  \n",
    "filepath.parent.mkdir(parents=True, exist_ok=True)  \n",
    "df_SIRD.to_csv(filepath, index=False)"
   ]
  }
 ],
 "metadata": {
  "kernelspec": {
   "display_name": "Python 3",
   "language": "python",
   "name": "python3"
  },
  "language_info": {
   "codemirror_mode": {
    "name": "ipython",
    "version": 3
   },
   "file_extension": ".py",
   "mimetype": "text/x-python",
   "name": "python",
   "nbconvert_exporter": "python",
   "pygments_lexer": "ipython3",
   "version": "3.8.5"
  }
 },
 "nbformat": 4,
 "nbformat_minor": 4
}
