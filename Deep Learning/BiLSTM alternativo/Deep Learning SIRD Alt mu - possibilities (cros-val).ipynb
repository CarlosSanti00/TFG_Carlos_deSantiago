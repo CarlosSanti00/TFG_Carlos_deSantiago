{
 "cells": [
  {
   "cell_type": "markdown",
   "id": "5058c5ba",
   "metadata": {},
   "source": [
    "# Deep Learning for Predicting SIRD model parameters"
   ]
  },
  {
   "cell_type": "code",
   "execution_count": 1,
   "id": "c4fc4965",
   "metadata": {},
   "outputs": [],
   "source": [
    "import matplotlib.pyplot as plt \n",
    "%matplotlib inline\n",
    "import pandas as pd\n",
    "import numpy as np\n",
    "from IPython import display\n",
    "import time\n",
    "import os\n",
    "from IPython.display import clear_output"
   ]
  },
  {
   "cell_type": "code",
   "execution_count": 2,
   "id": "02f83618",
   "metadata": {},
   "outputs": [],
   "source": [
    "import tensorflow as tf\n",
    "from tensorflow import keras\n",
    "from sklearn.model_selection import train_test_split\n",
    "import seaborn as sns\n",
    "from pylab import rcParams\n",
    "from matplotlib import rc\n",
    "from pandas.plotting import register_matplotlib_converters"
   ]
  },
  {
   "cell_type": "code",
   "execution_count": 3,
   "id": "e82e3cc4",
   "metadata": {},
   "outputs": [],
   "source": [
    "tf.random.set_seed(1234)"
   ]
  },
  {
   "cell_type": "markdown",
   "id": "3b06ca62",
   "metadata": {},
   "source": [
    "## 1. Data Analysis"
   ]
  },
  {
   "cell_type": "code",
   "execution_count": 4,
   "id": "3f79b1a9",
   "metadata": {},
   "outputs": [],
   "source": [
    "# Reading csv with all features and target values\n",
    "df = pd.read_csv(\"Final_Smooth_Alternative_Features_Spain.csv\")"
   ]
  },
  {
   "cell_type": "code",
   "execution_count": 5,
   "id": "478e6ceb",
   "metadata": {},
   "outputs": [
    {
     "data": {
      "text/html": [
       "<div>\n",
       "<style scoped>\n",
       "    .dataframe tbody tr th:only-of-type {\n",
       "        vertical-align: middle;\n",
       "    }\n",
       "\n",
       "    .dataframe tbody tr th {\n",
       "        vertical-align: top;\n",
       "    }\n",
       "\n",
       "    .dataframe thead th {\n",
       "        text-align: right;\n",
       "    }\n",
       "</style>\n",
       "<table border=\"1\" class=\"dataframe\">\n",
       "  <thead>\n",
       "    <tr style=\"text-align: right;\">\n",
       "      <th></th>\n",
       "      <th>Country/Region</th>\n",
       "      <th>Date</th>\n",
       "      <th>Daily Confirmed Smooth</th>\n",
       "      <th>Daily Deaths Smooth</th>\n",
       "      <th>Positive Test Rate Smooth</th>\n",
       "      <th>Mobility Rate Smooth</th>\n",
       "      <th>Num Hospitalizations Smooth</th>\n",
       "      <th>Num UCI Smooth</th>\n",
       "      <th>Beta Smooth</th>\n",
       "      <th>Gamma Smooth</th>\n",
       "      <th>Mu Smooth</th>\n",
       "    </tr>\n",
       "  </thead>\n",
       "  <tbody>\n",
       "    <tr>\n",
       "      <th>0</th>\n",
       "      <td>Spain</td>\n",
       "      <td>2020-03-21</td>\n",
       "      <td>2711.857143</td>\n",
       "      <td>168.571429</td>\n",
       "      <td>0.395</td>\n",
       "      <td>-0.528571</td>\n",
       "      <td>2826.142857</td>\n",
       "      <td>279.000000</td>\n",
       "      <td>0.193532</td>\n",
       "      <td>0.042238</td>\n",
       "      <td>0.014040</td>\n",
       "    </tr>\n",
       "    <tr>\n",
       "      <th>1</th>\n",
       "      <td>Spain</td>\n",
       "      <td>2020-03-22</td>\n",
       "      <td>2995.714286</td>\n",
       "      <td>211.857143</td>\n",
       "      <td>0.406</td>\n",
       "      <td>-0.545714</td>\n",
       "      <td>3106.571429</td>\n",
       "      <td>309.428571</td>\n",
       "      <td>0.190061</td>\n",
       "      <td>0.032033</td>\n",
       "      <td>0.015943</td>\n",
       "    </tr>\n",
       "    <tr>\n",
       "      <th>2</th>\n",
       "      <td>Spain</td>\n",
       "      <td>2020-03-23</td>\n",
       "      <td>3599.142857</td>\n",
       "      <td>281.285714</td>\n",
       "      <td>0.416</td>\n",
       "      <td>-0.555476</td>\n",
       "      <td>3509.571429</td>\n",
       "      <td>342.428571</td>\n",
       "      <td>0.186409</td>\n",
       "      <td>0.021829</td>\n",
       "      <td>0.015299</td>\n",
       "    </tr>\n",
       "    <tr>\n",
       "      <th>3</th>\n",
       "      <td>Spain</td>\n",
       "      <td>2020-03-24</td>\n",
       "      <td>4019.571429</td>\n",
       "      <td>325.000000</td>\n",
       "      <td>0.427</td>\n",
       "      <td>-0.563095</td>\n",
       "      <td>3920.285714</td>\n",
       "      <td>379.714286</td>\n",
       "      <td>0.181782</td>\n",
       "      <td>0.011625</td>\n",
       "      <td>0.017520</td>\n",
       "    </tr>\n",
       "    <tr>\n",
       "      <th>4</th>\n",
       "      <td>Spain</td>\n",
       "      <td>2020-03-25</td>\n",
       "      <td>5086.428571</td>\n",
       "      <td>432.000000</td>\n",
       "      <td>0.433</td>\n",
       "      <td>-0.570714</td>\n",
       "      <td>4222.285714</td>\n",
       "      <td>401.857143</td>\n",
       "      <td>0.173246</td>\n",
       "      <td>0.001421</td>\n",
       "      <td>0.017607</td>\n",
       "    </tr>\n",
       "  </tbody>\n",
       "</table>\n",
       "</div>"
      ],
      "text/plain": [
       "  Country/Region        Date  Daily Confirmed Smooth  Daily Deaths Smooth  \\\n",
       "0          Spain  2020-03-21             2711.857143           168.571429   \n",
       "1          Spain  2020-03-22             2995.714286           211.857143   \n",
       "2          Spain  2020-03-23             3599.142857           281.285714   \n",
       "3          Spain  2020-03-24             4019.571429           325.000000   \n",
       "4          Spain  2020-03-25             5086.428571           432.000000   \n",
       "\n",
       "   Positive Test Rate Smooth  Mobility Rate Smooth  \\\n",
       "0                      0.395             -0.528571   \n",
       "1                      0.406             -0.545714   \n",
       "2                      0.416             -0.555476   \n",
       "3                      0.427             -0.563095   \n",
       "4                      0.433             -0.570714   \n",
       "\n",
       "   Num Hospitalizations Smooth  Num UCI Smooth  Beta Smooth  Gamma Smooth  \\\n",
       "0                  2826.142857      279.000000     0.193532      0.042238   \n",
       "1                  3106.571429      309.428571     0.190061      0.032033   \n",
       "2                  3509.571429      342.428571     0.186409      0.021829   \n",
       "3                  3920.285714      379.714286     0.181782      0.011625   \n",
       "4                  4222.285714      401.857143     0.173246      0.001421   \n",
       "\n",
       "   Mu Smooth  \n",
       "0   0.014040  \n",
       "1   0.015943  \n",
       "2   0.015299  \n",
       "3   0.017520  \n",
       "4   0.017607  "
      ]
     },
     "execution_count": 5,
     "metadata": {},
     "output_type": "execute_result"
    }
   ],
   "source": [
    "df.head()"
   ]
  },
  {
   "cell_type": "code",
   "execution_count": 6,
   "id": "25335076",
   "metadata": {},
   "outputs": [
    {
     "data": {
      "text/html": [
       "<div>\n",
       "<style scoped>\n",
       "    .dataframe tbody tr th:only-of-type {\n",
       "        vertical-align: middle;\n",
       "    }\n",
       "\n",
       "    .dataframe tbody tr th {\n",
       "        vertical-align: top;\n",
       "    }\n",
       "\n",
       "    .dataframe thead th {\n",
       "        text-align: right;\n",
       "    }\n",
       "</style>\n",
       "<table border=\"1\" class=\"dataframe\">\n",
       "  <thead>\n",
       "    <tr style=\"text-align: right;\">\n",
       "      <th></th>\n",
       "      <th>Country/Region</th>\n",
       "      <th>Date</th>\n",
       "      <th>Daily Confirmed Smooth</th>\n",
       "      <th>Daily Deaths Smooth</th>\n",
       "      <th>Positive Test Rate Smooth</th>\n",
       "      <th>Mobility Rate Smooth</th>\n",
       "      <th>Num Hospitalizations Smooth</th>\n",
       "      <th>Num UCI Smooth</th>\n",
       "      <th>Beta Smooth</th>\n",
       "      <th>Gamma Smooth</th>\n",
       "      <th>Mu Smooth</th>\n",
       "    </tr>\n",
       "  </thead>\n",
       "  <tbody>\n",
       "    <tr>\n",
       "      <th>723</th>\n",
       "      <td>Spain</td>\n",
       "      <td>2022-03-14</td>\n",
       "      <td>12507.000000</td>\n",
       "      <td>80.142857</td>\n",
       "      <td>0.173</td>\n",
       "      <td>-0.062619</td>\n",
       "      <td>318.142857</td>\n",
       "      <td>19.142857</td>\n",
       "      <td>0.068976</td>\n",
       "      <td>0.077341</td>\n",
       "      <td>0.000311</td>\n",
       "    </tr>\n",
       "    <tr>\n",
       "      <th>724</th>\n",
       "      <td>Spain</td>\n",
       "      <td>2022-03-15</td>\n",
       "      <td>14352.285714</td>\n",
       "      <td>79.571429</td>\n",
       "      <td>0.174</td>\n",
       "      <td>-0.069048</td>\n",
       "      <td>320.857143</td>\n",
       "      <td>18.285714</td>\n",
       "      <td>0.070035</td>\n",
       "      <td>0.077100</td>\n",
       "      <td>0.000243</td>\n",
       "    </tr>\n",
       "    <tr>\n",
       "      <th>725</th>\n",
       "      <td>Spain</td>\n",
       "      <td>2022-03-16</td>\n",
       "      <td>11218.571429</td>\n",
       "      <td>60.571429</td>\n",
       "      <td>0.176</td>\n",
       "      <td>-0.075476</td>\n",
       "      <td>324.857143</td>\n",
       "      <td>16.857143</td>\n",
       "      <td>0.077156</td>\n",
       "      <td>0.078181</td>\n",
       "      <td>0.000197</td>\n",
       "    </tr>\n",
       "    <tr>\n",
       "      <th>726</th>\n",
       "      <td>Spain</td>\n",
       "      <td>2022-03-17</td>\n",
       "      <td>7987.857143</td>\n",
       "      <td>48.428571</td>\n",
       "      <td>0.177</td>\n",
       "      <td>-0.080476</td>\n",
       "      <td>328.285714</td>\n",
       "      <td>17.428571</td>\n",
       "      <td>0.090718</td>\n",
       "      <td>0.079748</td>\n",
       "      <td>0.000391</td>\n",
       "    </tr>\n",
       "    <tr>\n",
       "      <th>727</th>\n",
       "      <td>Spain</td>\n",
       "      <td>2022-03-18</td>\n",
       "      <td>14380.428571</td>\n",
       "      <td>81.142857</td>\n",
       "      <td>0.178</td>\n",
       "      <td>-0.076190</td>\n",
       "      <td>333.857143</td>\n",
       "      <td>15.714286</td>\n",
       "      <td>0.093870</td>\n",
       "      <td>0.081923</td>\n",
       "      <td>0.000391</td>\n",
       "    </tr>\n",
       "  </tbody>\n",
       "</table>\n",
       "</div>"
      ],
      "text/plain": [
       "    Country/Region        Date  Daily Confirmed Smooth  Daily Deaths Smooth  \\\n",
       "723          Spain  2022-03-14            12507.000000            80.142857   \n",
       "724          Spain  2022-03-15            14352.285714            79.571429   \n",
       "725          Spain  2022-03-16            11218.571429            60.571429   \n",
       "726          Spain  2022-03-17             7987.857143            48.428571   \n",
       "727          Spain  2022-03-18            14380.428571            81.142857   \n",
       "\n",
       "     Positive Test Rate Smooth  Mobility Rate Smooth  \\\n",
       "723                      0.173             -0.062619   \n",
       "724                      0.174             -0.069048   \n",
       "725                      0.176             -0.075476   \n",
       "726                      0.177             -0.080476   \n",
       "727                      0.178             -0.076190   \n",
       "\n",
       "     Num Hospitalizations Smooth  Num UCI Smooth  Beta Smooth  Gamma Smooth  \\\n",
       "723                   318.142857       19.142857     0.068976      0.077341   \n",
       "724                   320.857143       18.285714     0.070035      0.077100   \n",
       "725                   324.857143       16.857143     0.077156      0.078181   \n",
       "726                   328.285714       17.428571     0.090718      0.079748   \n",
       "727                   333.857143       15.714286     0.093870      0.081923   \n",
       "\n",
       "     Mu Smooth  \n",
       "723   0.000311  \n",
       "724   0.000243  \n",
       "725   0.000197  \n",
       "726   0.000391  \n",
       "727   0.000391  "
      ]
     },
     "execution_count": 6,
     "metadata": {},
     "output_type": "execute_result"
    }
   ],
   "source": [
    "df.tail()"
   ]
  },
  {
   "cell_type": "code",
   "execution_count": 7,
   "id": "b158e63a",
   "metadata": {},
   "outputs": [
    {
     "data": {
      "text/plain": [
       "(728, 11)"
      ]
     },
     "execution_count": 7,
     "metadata": {},
     "output_type": "execute_result"
    }
   ],
   "source": [
    "df.shape"
   ]
  },
  {
   "cell_type": "code",
   "execution_count": 8,
   "id": "bf001e68",
   "metadata": {},
   "outputs": [
    {
     "data": {
      "text/plain": [
       "False"
      ]
     },
     "execution_count": 8,
     "metadata": {},
     "output_type": "execute_result"
    }
   ],
   "source": [
    "# Checking for no null values\n",
    "df.isnull().values.any()"
   ]
  },
  {
   "cell_type": "code",
   "execution_count": 9,
   "id": "ba082dd3",
   "metadata": {},
   "outputs": [
    {
     "data": {
      "text/html": [
       "<div>\n",
       "<style scoped>\n",
       "    .dataframe tbody tr th:only-of-type {\n",
       "        vertical-align: middle;\n",
       "    }\n",
       "\n",
       "    .dataframe tbody tr th {\n",
       "        vertical-align: top;\n",
       "    }\n",
       "\n",
       "    .dataframe thead th {\n",
       "        text-align: right;\n",
       "    }\n",
       "</style>\n",
       "<table border=\"1\" class=\"dataframe\">\n",
       "  <thead>\n",
       "    <tr style=\"text-align: right;\">\n",
       "      <th></th>\n",
       "      <th>Daily Confirmed Smooth</th>\n",
       "      <th>Daily Deaths Smooth</th>\n",
       "      <th>Positive Test Rate Smooth</th>\n",
       "      <th>Mobility Rate Smooth</th>\n",
       "      <th>Num Hospitalizations Smooth</th>\n",
       "      <th>Num UCI Smooth</th>\n",
       "      <th>Beta Smooth</th>\n",
       "      <th>Gamma Smooth</th>\n",
       "      <th>Mu Smooth</th>\n",
       "    </tr>\n",
       "  </thead>\n",
       "  <tbody>\n",
       "    <tr>\n",
       "      <th>count</th>\n",
       "      <td>728.000000</td>\n",
       "      <td>728.000000</td>\n",
       "      <td>728.000000</td>\n",
       "      <td>728.000000</td>\n",
       "      <td>728.000000</td>\n",
       "      <td>728.000000</td>\n",
       "      <td>728.000000</td>\n",
       "      <td>728.000000</td>\n",
       "      <td>728.000000</td>\n",
       "    </tr>\n",
       "    <tr>\n",
       "      <th>mean</th>\n",
       "      <td>15557.764717</td>\n",
       "      <td>141.079474</td>\n",
       "      <td>0.111666</td>\n",
       "      <td>-0.109044</td>\n",
       "      <td>680.044152</td>\n",
       "      <td>65.338305</td>\n",
       "      <td>0.083144</td>\n",
       "      <td>0.067927</td>\n",
       "      <td>0.002118</td>\n",
       "    </tr>\n",
       "    <tr>\n",
       "      <th>std</th>\n",
       "      <td>25178.961540</td>\n",
       "      <td>154.240247</td>\n",
       "      <td>0.088658</td>\n",
       "      <td>0.152279</td>\n",
       "      <td>688.279005</td>\n",
       "      <td>63.579917</td>\n",
       "      <td>0.025321</td>\n",
       "      <td>0.024817</td>\n",
       "      <td>0.004744</td>\n",
       "    </tr>\n",
       "    <tr>\n",
       "      <th>min</th>\n",
       "      <td>253.571429</td>\n",
       "      <td>0.000000</td>\n",
       "      <td>0.015000</td>\n",
       "      <td>-0.606190</td>\n",
       "      <td>31.142857</td>\n",
       "      <td>2.571429</td>\n",
       "      <td>0.038871</td>\n",
       "      <td>0.000573</td>\n",
       "      <td>0.000000</td>\n",
       "    </tr>\n",
       "    <tr>\n",
       "      <th>25%</th>\n",
       "      <td>3592.964286</td>\n",
       "      <td>31.714286</td>\n",
       "      <td>0.051000</td>\n",
       "      <td>-0.155595</td>\n",
       "      <td>225.071429</td>\n",
       "      <td>19.964286</td>\n",
       "      <td>0.065003</td>\n",
       "      <td>0.051538</td>\n",
       "      <td>0.000326</td>\n",
       "    </tr>\n",
       "    <tr>\n",
       "      <th>50%</th>\n",
       "      <td>7687.214286</td>\n",
       "      <td>93.142857</td>\n",
       "      <td>0.085000</td>\n",
       "      <td>-0.073690</td>\n",
       "      <td>523.000000</td>\n",
       "      <td>57.214286</td>\n",
       "      <td>0.078661</td>\n",
       "      <td>0.069257</td>\n",
       "      <td>0.000801</td>\n",
       "    </tr>\n",
       "    <tr>\n",
       "      <th>75%</th>\n",
       "      <td>15999.321429</td>\n",
       "      <td>185.571429</td>\n",
       "      <td>0.137250</td>\n",
       "      <td>-0.016429</td>\n",
       "      <td>826.500000</td>\n",
       "      <td>84.464286</td>\n",
       "      <td>0.095254</td>\n",
       "      <td>0.085458</td>\n",
       "      <td>0.001323</td>\n",
       "    </tr>\n",
       "    <tr>\n",
       "      <th>max</th>\n",
       "      <td>144008.857143</td>\n",
       "      <td>865.714286</td>\n",
       "      <td>0.434000</td>\n",
       "      <td>0.091429</td>\n",
       "      <td>4590.714286</td>\n",
       "      <td>421.857143</td>\n",
       "      <td>0.193532</td>\n",
       "      <td>0.142449</td>\n",
       "      <td>0.037187</td>\n",
       "    </tr>\n",
       "  </tbody>\n",
       "</table>\n",
       "</div>"
      ],
      "text/plain": [
       "       Daily Confirmed Smooth  Daily Deaths Smooth  Positive Test Rate Smooth  \\\n",
       "count              728.000000           728.000000                 728.000000   \n",
       "mean             15557.764717           141.079474                   0.111666   \n",
       "std              25178.961540           154.240247                   0.088658   \n",
       "min                253.571429             0.000000                   0.015000   \n",
       "25%               3592.964286            31.714286                   0.051000   \n",
       "50%               7687.214286            93.142857                   0.085000   \n",
       "75%              15999.321429           185.571429                   0.137250   \n",
       "max             144008.857143           865.714286                   0.434000   \n",
       "\n",
       "       Mobility Rate Smooth  Num Hospitalizations Smooth  Num UCI Smooth  \\\n",
       "count            728.000000                   728.000000      728.000000   \n",
       "mean              -0.109044                   680.044152       65.338305   \n",
       "std                0.152279                   688.279005       63.579917   \n",
       "min               -0.606190                    31.142857        2.571429   \n",
       "25%               -0.155595                   225.071429       19.964286   \n",
       "50%               -0.073690                   523.000000       57.214286   \n",
       "75%               -0.016429                   826.500000       84.464286   \n",
       "max                0.091429                  4590.714286      421.857143   \n",
       "\n",
       "       Beta Smooth  Gamma Smooth   Mu Smooth  \n",
       "count   728.000000    728.000000  728.000000  \n",
       "mean      0.083144      0.067927    0.002118  \n",
       "std       0.025321      0.024817    0.004744  \n",
       "min       0.038871      0.000573    0.000000  \n",
       "25%       0.065003      0.051538    0.000326  \n",
       "50%       0.078661      0.069257    0.000801  \n",
       "75%       0.095254      0.085458    0.001323  \n",
       "max       0.193532      0.142449    0.037187  "
      ]
     },
     "execution_count": 9,
     "metadata": {},
     "output_type": "execute_result"
    }
   ],
   "source": [
    "# Description of the dataframe\n",
    "df.describe()"
   ]
  },
  {
   "cell_type": "code",
   "execution_count": 10,
   "id": "ca023e15",
   "metadata": {},
   "outputs": [
    {
     "data": {
      "text/html": [
       "<div>\n",
       "<style scoped>\n",
       "    .dataframe tbody tr th:only-of-type {\n",
       "        vertical-align: middle;\n",
       "    }\n",
       "\n",
       "    .dataframe tbody tr th {\n",
       "        vertical-align: top;\n",
       "    }\n",
       "\n",
       "    .dataframe thead th {\n",
       "        text-align: right;\n",
       "    }\n",
       "</style>\n",
       "<table border=\"1\" class=\"dataframe\">\n",
       "  <thead>\n",
       "    <tr style=\"text-align: right;\">\n",
       "      <th></th>\n",
       "      <th>Daily Confirmed Smooth</th>\n",
       "      <th>Daily Deaths Smooth</th>\n",
       "      <th>Positive Test Rate Smooth</th>\n",
       "      <th>Mobility Rate Smooth</th>\n",
       "      <th>Num Hospitalizations Smooth</th>\n",
       "      <th>Num UCI Smooth</th>\n",
       "      <th>Beta Smooth</th>\n",
       "      <th>Gamma Smooth</th>\n",
       "      <th>Mu Smooth</th>\n",
       "    </tr>\n",
       "  </thead>\n",
       "  <tbody>\n",
       "    <tr>\n",
       "      <th>Daily Confirmed Smooth</th>\n",
       "      <td>1.000000</td>\n",
       "      <td>0.056163</td>\n",
       "      <td>0.752591</td>\n",
       "      <td>0.084741</td>\n",
       "      <td>0.350322</td>\n",
       "      <td>0.234948</td>\n",
       "      <td>0.108194</td>\n",
       "      <td>-0.222121</td>\n",
       "      <td>-0.187443</td>\n",
       "    </tr>\n",
       "    <tr>\n",
       "      <th>Daily Deaths Smooth</th>\n",
       "      <td>0.056163</td>\n",
       "      <td>1.000000</td>\n",
       "      <td>0.398774</td>\n",
       "      <td>-0.755240</td>\n",
       "      <td>0.701427</td>\n",
       "      <td>0.653896</td>\n",
       "      <td>-0.265599</td>\n",
       "      <td>-0.296331</td>\n",
       "      <td>0.371916</td>\n",
       "    </tr>\n",
       "    <tr>\n",
       "      <th>Positive Test Rate Smooth</th>\n",
       "      <td>0.752591</td>\n",
       "      <td>0.398774</td>\n",
       "      <td>1.000000</td>\n",
       "      <td>-0.264946</td>\n",
       "      <td>0.740638</td>\n",
       "      <td>0.617439</td>\n",
       "      <td>0.287647</td>\n",
       "      <td>-0.355434</td>\n",
       "      <td>0.039396</td>\n",
       "    </tr>\n",
       "    <tr>\n",
       "      <th>Mobility Rate Smooth</th>\n",
       "      <td>0.084741</td>\n",
       "      <td>-0.755240</td>\n",
       "      <td>-0.264946</td>\n",
       "      <td>1.000000</td>\n",
       "      <td>-0.546479</td>\n",
       "      <td>-0.491043</td>\n",
       "      <td>0.070637</td>\n",
       "      <td>0.332849</td>\n",
       "      <td>-0.527138</td>\n",
       "    </tr>\n",
       "    <tr>\n",
       "      <th>Num Hospitalizations Smooth</th>\n",
       "      <td>0.350322</td>\n",
       "      <td>0.701427</td>\n",
       "      <td>0.740638</td>\n",
       "      <td>-0.546479</td>\n",
       "      <td>1.000000</td>\n",
       "      <td>0.971878</td>\n",
       "      <td>0.166225</td>\n",
       "      <td>-0.207917</td>\n",
       "      <td>0.194803</td>\n",
       "    </tr>\n",
       "    <tr>\n",
       "      <th>Num UCI Smooth</th>\n",
       "      <td>0.234948</td>\n",
       "      <td>0.653896</td>\n",
       "      <td>0.617439</td>\n",
       "      <td>-0.491043</td>\n",
       "      <td>0.971878</td>\n",
       "      <td>1.000000</td>\n",
       "      <td>0.168779</td>\n",
       "      <td>-0.127670</td>\n",
       "      <td>0.167615</td>\n",
       "    </tr>\n",
       "    <tr>\n",
       "      <th>Beta Smooth</th>\n",
       "      <td>0.108194</td>\n",
       "      <td>-0.265599</td>\n",
       "      <td>0.287647</td>\n",
       "      <td>0.070637</td>\n",
       "      <td>0.166225</td>\n",
       "      <td>0.168779</td>\n",
       "      <td>1.000000</td>\n",
       "      <td>0.223547</td>\n",
       "      <td>0.034889</td>\n",
       "    </tr>\n",
       "    <tr>\n",
       "      <th>Gamma Smooth</th>\n",
       "      <td>-0.222121</td>\n",
       "      <td>-0.296331</td>\n",
       "      <td>-0.355434</td>\n",
       "      <td>0.332849</td>\n",
       "      <td>-0.207917</td>\n",
       "      <td>-0.127670</td>\n",
       "      <td>0.223547</td>\n",
       "      <td>1.000000</td>\n",
       "      <td>-0.026215</td>\n",
       "    </tr>\n",
       "    <tr>\n",
       "      <th>Mu Smooth</th>\n",
       "      <td>-0.187443</td>\n",
       "      <td>0.371916</td>\n",
       "      <td>0.039396</td>\n",
       "      <td>-0.527138</td>\n",
       "      <td>0.194803</td>\n",
       "      <td>0.167615</td>\n",
       "      <td>0.034889</td>\n",
       "      <td>-0.026215</td>\n",
       "      <td>1.000000</td>\n",
       "    </tr>\n",
       "  </tbody>\n",
       "</table>\n",
       "</div>"
      ],
      "text/plain": [
       "                             Daily Confirmed Smooth  Daily Deaths Smooth  \\\n",
       "Daily Confirmed Smooth                     1.000000             0.056163   \n",
       "Daily Deaths Smooth                        0.056163             1.000000   \n",
       "Positive Test Rate Smooth                  0.752591             0.398774   \n",
       "Mobility Rate Smooth                       0.084741            -0.755240   \n",
       "Num Hospitalizations Smooth                0.350322             0.701427   \n",
       "Num UCI Smooth                             0.234948             0.653896   \n",
       "Beta Smooth                                0.108194            -0.265599   \n",
       "Gamma Smooth                              -0.222121            -0.296331   \n",
       "Mu Smooth                                 -0.187443             0.371916   \n",
       "\n",
       "                             Positive Test Rate Smooth  Mobility Rate Smooth  \\\n",
       "Daily Confirmed Smooth                        0.752591              0.084741   \n",
       "Daily Deaths Smooth                           0.398774             -0.755240   \n",
       "Positive Test Rate Smooth                     1.000000             -0.264946   \n",
       "Mobility Rate Smooth                         -0.264946              1.000000   \n",
       "Num Hospitalizations Smooth                   0.740638             -0.546479   \n",
       "Num UCI Smooth                                0.617439             -0.491043   \n",
       "Beta Smooth                                   0.287647              0.070637   \n",
       "Gamma Smooth                                 -0.355434              0.332849   \n",
       "Mu Smooth                                     0.039396             -0.527138   \n",
       "\n",
       "                             Num Hospitalizations Smooth  Num UCI Smooth  \\\n",
       "Daily Confirmed Smooth                          0.350322        0.234948   \n",
       "Daily Deaths Smooth                             0.701427        0.653896   \n",
       "Positive Test Rate Smooth                       0.740638        0.617439   \n",
       "Mobility Rate Smooth                           -0.546479       -0.491043   \n",
       "Num Hospitalizations Smooth                     1.000000        0.971878   \n",
       "Num UCI Smooth                                  0.971878        1.000000   \n",
       "Beta Smooth                                     0.166225        0.168779   \n",
       "Gamma Smooth                                   -0.207917       -0.127670   \n",
       "Mu Smooth                                       0.194803        0.167615   \n",
       "\n",
       "                             Beta Smooth  Gamma Smooth  Mu Smooth  \n",
       "Daily Confirmed Smooth          0.108194     -0.222121  -0.187443  \n",
       "Daily Deaths Smooth            -0.265599     -0.296331   0.371916  \n",
       "Positive Test Rate Smooth       0.287647     -0.355434   0.039396  \n",
       "Mobility Rate Smooth            0.070637      0.332849  -0.527138  \n",
       "Num Hospitalizations Smooth     0.166225     -0.207917   0.194803  \n",
       "Num UCI Smooth                  0.168779     -0.127670   0.167615  \n",
       "Beta Smooth                     1.000000      0.223547   0.034889  \n",
       "Gamma Smooth                    0.223547      1.000000  -0.026215  \n",
       "Mu Smooth                       0.034889     -0.026215   1.000000  "
      ]
     },
     "execution_count": 10,
     "metadata": {},
     "output_type": "execute_result"
    }
   ],
   "source": [
    "df.corr()"
   ]
  },
  {
   "cell_type": "code",
   "execution_count": 11,
   "id": "caab8278",
   "metadata": {},
   "outputs": [],
   "source": [
    "labels = ['Daily Confirmed Smooth', 'Daily Deaths Smooth', 'Positive Test Rate Smooth', 'Mobility Rate Smooth',\n",
    "          'Num Hospitalizations Smooth', 'Num UCI Smooth', 'Beta Smooth', 'Gamma Smooth', 'Mu Smooth']"
   ]
  },
  {
   "cell_type": "markdown",
   "id": "49045d77",
   "metadata": {},
   "source": [
    "## 2. Data Preprocessing"
   ]
  },
  {
   "cell_type": "code",
   "execution_count": 12,
   "id": "373416cf",
   "metadata": {},
   "outputs": [
    {
     "name": "stdout",
     "output_type": "stream",
     "text": [
      "2711.8571428571427 168.57142857142858 0.395 -0.5285714285714286 2826.1428571428573 279.0 2020-03-21\n"
     ]
    },
    {
     "data": {
      "text/plain": [
       "((728,), (728,), (728,), (728,), (728,), (728,), (728,))"
      ]
     },
     "execution_count": 12,
     "metadata": {},
     "output_type": "execute_result"
    }
   ],
   "source": [
    "# Obtaining data values\n",
    "Inf = df[\"Daily Confirmed Smooth\"].values\n",
    "Deaths = df[\"Daily Deaths Smooth\"].values\n",
    "Test = df[\"Positive Test Rate Smooth\"].values\n",
    "Mobility = df[\"Mobility Rate Smooth\"].values\n",
    "Hosp = df[\"Num Hospitalizations Smooth\"].values\n",
    "UCI = df[\"Num UCI Smooth\"].values\n",
    "date = df[\"Date\"].values\n",
    "\n",
    "print(Inf[0], Deaths[0], Test[0], Mobility[0], Hosp[0], UCI[0], date[0])\n",
    "Inf.shape, Deaths.shape, Test.shape, Mobility.shape, Hosp.shape, UCI.shape, date.shape"
   ]
  },
  {
   "cell_type": "code",
   "execution_count": 13,
   "id": "17eab62b",
   "metadata": {},
   "outputs": [
    {
     "name": "stdout",
     "output_type": "stream",
     "text": [
      "0.0140397953403922 0.1935317998669637 0.0422375080523535\n"
     ]
    },
    {
     "data": {
      "text/plain": [
       "((728,), (728,), (728,))"
      ]
     },
     "execution_count": 13,
     "metadata": {},
     "output_type": "execute_result"
    }
   ],
   "source": [
    "# Obtaining target values\n",
    "mu = df[\"Mu Smooth\"].values\n",
    "beta = df[\"Beta Smooth\"].values\n",
    "gamma = df[\"Gamma Smooth\"].values\n",
    "\n",
    "print(mu[0], beta[0], gamma[0])\n",
    "mu.shape, beta.shape, gamma.shape"
   ]
  },
  {
   "cell_type": "markdown",
   "id": "df84f0e2",
   "metadata": {},
   "source": [
    "**Merging features values and target values in separate arrays:**"
   ]
  },
  {
   "cell_type": "code",
   "execution_count": 14,
   "id": "ea449854",
   "metadata": {},
   "outputs": [
    {
     "data": {
      "text/plain": [
       "((728, 6),\n",
       " array([[ 2.71185714e+03,  1.68571429e+02,  3.95000000e-01,\n",
       "         -5.28571429e-01,  2.82614286e+03,  2.79000000e+02],\n",
       "        [ 2.99571429e+03,  2.11857143e+02,  4.06000000e-01,\n",
       "         -5.45714286e-01,  3.10657143e+03,  3.09428571e+02],\n",
       "        [ 3.59914286e+03,  2.81285714e+02,  4.16000000e-01,\n",
       "         -5.55476190e-01,  3.50957143e+03,  3.42428571e+02],\n",
       "        [ 4.01957143e+03,  3.25000000e+02,  4.27000000e-01,\n",
       "         -5.63095238e-01,  3.92028571e+03,  3.79714286e+02],\n",
       "        [ 5.08642857e+03,  4.32000000e+02,  4.33000000e-01,\n",
       "         -5.70714286e-01,  4.22228571e+03,  4.01857143e+02]]))"
      ]
     },
     "execution_count": 14,
     "metadata": {},
     "output_type": "execute_result"
    }
   ],
   "source": [
    "# X_total array\n",
    "columns = 6\n",
    "X_total = np.empty((len(Inf), columns))\n",
    "\n",
    "for i in range(len(X_total)):\n",
    "    X_total[i] = [Inf[i], Deaths[i], Test[i], Mobility[i], Hosp[i], UCI[i]]\n",
    "\n",
    "X_total.shape, X_total[0:5]"
   ]
  },
  {
   "cell_type": "code",
   "execution_count": 15,
   "id": "dd37c61e",
   "metadata": {},
   "outputs": [
    {
     "data": {
      "text/plain": [
       "((728, 3),\n",
       " array([[0.1935318 , 0.04223751, 0.0140398 ],\n",
       "        [0.19006098, 0.03203343, 0.01594338],\n",
       "        [0.18640881, 0.02182934, 0.01529925],\n",
       "        [0.18178154, 0.01162526, 0.01751999],\n",
       "        [0.1732455 , 0.00142118, 0.01760706]]))"
      ]
     },
     "execution_count": 15,
     "metadata": {},
     "output_type": "execute_result"
    }
   ],
   "source": [
    "# y_total array\n",
    "columns = 3\n",
    "y_total = np.empty((len(mu), columns))\n",
    "\n",
    "for i in range(len(y_total)):\n",
    "    y_total[i] = [beta[i], gamma[i], mu[i]]\n",
    "\n",
    "y_total.shape, y_total[0:5]"
   ]
  },
  {
   "cell_type": "markdown",
   "id": "429d01af",
   "metadata": {},
   "source": [
    "**Subset of total data:**"
   ]
  },
  {
   "cell_type": "code",
   "execution_count": 16,
   "id": "10feb92a",
   "metadata": {},
   "outputs": [
    {
     "name": "stdout",
     "output_type": "stream",
     "text": [
      "Initial day is assumed 0. You only need to introduce the number of total data to use.\n",
      "\n",
      "Introduce the total number of data to use for the deep learning process. Notice that the data will be splitted into train and test.\n",
      "600\n",
      "[ 2.75171429e+03  2.21428571e+01  3.70000000e-02 -1.80952381e-02\n",
      "  1.58428571e+02  1.92857143e+01] [0.11218209 0.09414399 0.0008645 ] 2021-11-10\n"
     ]
    },
    {
     "data": {
      "text/plain": [
       "((600, 6), (600, 3), (600,))"
      ]
     },
     "execution_count": 16,
     "metadata": {},
     "output_type": "execute_result"
    }
   ],
   "source": [
    "# Introduce the total number of data to use\n",
    "# ni = int(input(\"Introduce the initial number you want to start your deep learning process\\n\"))\n",
    "ni = 0\n",
    "print(\"Initial day is assumed 0. You only need to introduce the number of total data to use.\\n\")\n",
    "nd = int(input(\"Introduce the total number of data to use for the deep learning process. Notice that the data will be \"\n",
    "           \"splitted into train and test.\\n\"))\n",
    "\n",
    "# Subset of total data\n",
    "X_deep = X_total[ni:ni+nd]\n",
    "y_deep = y_total[ni:ni+nd]\n",
    "date_deep = date[ni:ni+nd]\n",
    "\n",
    "print(X_deep[-1], y_deep[-1], date_deep[-1])\n",
    "X_deep.shape, y_deep.shape, date_deep.shape"
   ]
  },
  {
   "cell_type": "code",
   "execution_count": 17,
   "id": "30382c06",
   "metadata": {},
   "outputs": [
    {
     "data": {
      "text/plain": [
       "((600, 1),\n",
       " array([[0.0140398 ],\n",
       "        [0.01594338],\n",
       "        [0.01529925],\n",
       "        [0.01751999],\n",
       "        [0.01760706],\n",
       "        [0.01796094],\n",
       "        [0.01763418],\n",
       "        [0.01714265],\n",
       "        [0.0162016 ],\n",
       "        [0.01548019]]))"
      ]
     },
     "execution_count": 17,
     "metadata": {},
     "output_type": "execute_result"
    }
   ],
   "source": [
    "# Selecting only the beta parameter as the unic target value\n",
    "y_deep_mu = np.empty((len(y_deep), 1))\n",
    "\n",
    "for i in range(len(y_deep)):\n",
    "    y_deep_mu[i] = y_deep[i][2]\n",
    "\n",
    "y_deep_mu.shape, y_deep_mu[0:10]"
   ]
  },
  {
   "cell_type": "markdown",
   "id": "134a0cb2",
   "metadata": {},
   "source": [
    "**Cut time series data into sequences:**"
   ]
  },
  {
   "cell_type": "code",
   "execution_count": 18,
   "id": "85bbbc25",
   "metadata": {
    "scrolled": true
   },
   "outputs": [
    {
     "name": "stdout",
     "output_type": "stream",
     "text": [
      "Introduce the length of the temporal series\n",
      "7\n"
     ]
    },
    {
     "data": {
      "text/plain": [
       "(593, 593, (7, 6), (1,))"
      ]
     },
     "execution_count": 18,
     "metadata": {},
     "output_type": "execute_result"
    }
   ],
   "source": [
    "# Definition of the time step\n",
    "\n",
    "time_steps = int(input(\"Introduce the length of the temporal series\\n\"))\n",
    "possible_time_steps = time_steps\n",
    "\n",
    "X_deep_series = np.empty((len(X_deep) - time_steps, time_steps, 6))\n",
    "y_deep_mu_series = np.empty(((len(y_deep_mu) - time_steps, 1)))\n",
    "\n",
    "# Creation of the sequential X and y data\n",
    "for i in range(0, len(X_deep) - time_steps, 1):\n",
    "    X_deep_series[i] = X_deep[i:(i+time_steps)]\n",
    "    y_deep_mu_series[i] = y_deep_mu[(i+time_steps)-1]\n",
    "    \n",
    "len(X_deep_series), len(y_deep_mu_series), X_deep_series[0].shape, y_deep_mu_series[0].shape"
   ]
  },
  {
   "cell_type": "markdown",
   "id": "36c67cf3",
   "metadata": {},
   "source": [
    "**Cross-validation generator:**"
   ]
  },
  {
   "cell_type": "code",
   "execution_count": 19,
   "id": "fe72510a",
   "metadata": {},
   "outputs": [],
   "source": [
    "# GroupShuffleSplit definition for cross-validation\n",
    "from sklearn.model_selection import GroupShuffleSplit\n",
    "\n",
    "groups = np.arange(len(X_deep_series))\n",
    "splits = 5\n",
    "gss = GroupShuffleSplit(n_splits=splits, train_size=.8, random_state=42)"
   ]
  },
  {
   "cell_type": "markdown",
   "id": "b783c5be",
   "metadata": {},
   "source": [
    "**Standardization of datasets:**"
   ]
  },
  {
   "cell_type": "code",
   "execution_count": 20,
   "id": "33432c09",
   "metadata": {},
   "outputs": [],
   "source": [
    "def standarize(X_train, X_test, y_train_mu, y_test_mu):\n",
    "\n",
    "    # https://scikit-learn.org/stable/modules/generated/sklearn.preprocessing.StandardScaler.html#sklearn.preprocessing.StandardScaler\n",
    "    # StandardScaler: Standardize features by removing the mean and scaling to unit variance\n",
    "    from sklearn.preprocessing import StandardScaler\n",
    "\n",
    "    # Definition of two scaler objects: one for the features and another for the targets\n",
    "    feature_scaler = StandardScaler()\n",
    "    target_scaler = StandardScaler()\n",
    "\n",
    "    # Fit and transform of the objects from the train data\n",
    "    X_train_S = feature_scaler.fit_transform(X_train.reshape(-1, X_train.shape[-1])).reshape(X_train.shape)\n",
    "    y_train_mu_S = target_scaler.fit_transform(y_train_mu)\n",
    "\n",
    "    # # Transform of the train data\n",
    "    # X_train_S = feature_scaler.transform(X_train.reshape(-1, X_train.shape[-1])).reshape(X_train.shape)\n",
    "    # y_train_mu_S = target_scaler.transform(y_train_mu.reshape(-1, X_train.shape[-1])).reshape(y_train_mu.shape)\n",
    "\n",
    "    # Transform of the test data\n",
    "    X_test_S = feature_scaler.transform(X_test.reshape(-1, X_test.shape[-1])).reshape(X_test.shape)\n",
    "    y_test_mu_S = target_scaler.transform(y_test_mu)\n",
    "    \n",
    "    return(feature_scaler, target_scaler, X_train_S, y_train_mu_S, X_test_S, y_test_mu_S)"
   ]
  },
  {
   "cell_type": "markdown",
   "id": "1793ce23",
   "metadata": {},
   "source": [
    "## 3. Deep Learning Sequential Model Definition"
   ]
  },
  {
   "cell_type": "code",
   "execution_count": 21,
   "id": "3678942a",
   "metadata": {},
   "outputs": [],
   "source": [
    "# Neuron parameters\n",
    "neu = (128, 64)"
   ]
  },
  {
   "cell_type": "code",
   "execution_count": 22,
   "id": "bf0695dd",
   "metadata": {},
   "outputs": [],
   "source": [
    "# Dropout percentage parameter\n",
    "dropout_perc = [0.5]"
   ]
  },
  {
   "cell_type": "code",
   "execution_count": 23,
   "id": "23adf64f",
   "metadata": {},
   "outputs": [],
   "source": [
    "# Activation functions parameters\n",
    "act = ('relu', 'relu')"
   ]
  },
  {
   "cell_type": "code",
   "execution_count": 24,
   "id": "f8d39197",
   "metadata": {},
   "outputs": [],
   "source": [
    "# Loss function parameter\n",
    "loss = 'mse'"
   ]
  },
  {
   "cell_type": "code",
   "execution_count": 25,
   "id": "14bef18f",
   "metadata": {},
   "outputs": [],
   "source": [
    "# Function for creating the DL sequential model\n",
    "def dl_model(train_data, y_train, test_data, y_test, neuron, act_fun, drop_perc, loss_fun):\n",
    "    from keras.layers import Dense, LSTM, Dropout\n",
    "    \n",
    "    model = keras.Sequential()\n",
    "    model.add(LSTM(neuron[0], activation=act_fun[0], return_sequences=True, input_shape=train_data.shape[1:]))\n",
    "    model.add(Dropout(drop_perc))\n",
    "    model.add(LSTM(neuron[1], activation=act_fun[1], return_sequences=False))\n",
    "    model.add(Dropout(drop_perc))\n",
    "    model.add(Dense(units=1, activation='linear'))\n",
    "    \n",
    "    # opt = tf.keras.optimizers.Adam(learning_rate=1e-3, decay=1e-5)\n",
    "    model.compile(optimizer='adam', loss=loss_fun, metrics=[loss_fun])\n",
    "    \n",
    "    return(model)"
   ]
  },
  {
   "cell_type": "code",
   "execution_count": 26,
   "id": "de7edb03",
   "metadata": {},
   "outputs": [],
   "source": [
    "# Bi LSTM \n",
    "def BiLstm(train_data, y_train, test_data, y_test, neuron, act_fun, drop_perc):\n",
    "    tf.random.set_seed(1234)\n",
    "    from keras.layers import Dense, LSTM, Dropout, Bidirectional\n",
    "    \n",
    "    model = keras.Sequential()\n",
    "    model.add(Bidirectional(LSTM(neuron[0], activation = act_fun[0], return_sequences=True), input_shape = train_data.shape[1:]))\n",
    "    model.add(Dropout(drop_perc))\n",
    "    model.add(Bidirectional(LSTM(neuron[1], activation = act_fun[1]), input_shape = train_data.shape[1:]))\n",
    "    model.add(Dense(train_data.shape[1]))\n",
    "    model.add(Dense(1))\n",
    "    \n",
    "    model.compile(optimizer='adam', loss='mse', metrics=['mse'])\n",
    "    history = model.fit(train_data, y_train, epochs = 5000, verbose = 0, validation_data = (test_data, y_test))\n",
    "    \n",
    "    return (model, history)"
   ]
  },
  {
   "cell_type": "code",
   "execution_count": 27,
   "id": "a741fa0b",
   "metadata": {},
   "outputs": [],
   "source": [
    "# Function to train the model\n",
    "def error_pred(model, history, X_train_S, y_train_mu_S, X_test_S, y_test_mu_S):\n",
    "\n",
    "    # Testing data prediction\n",
    "    y_pred = model(X_test_S)\n",
    "    \n",
    "    # Errors array\n",
    "    error_square = np.empty(len(y_pred), dtype=float)\n",
    "    for i in range(len(y_pred)):\n",
    "        error_square[i] = (y_pred[i] - y_test_mu_S[i])**2\n",
    "    \n",
    "    # MSE and RMSE value\n",
    "    MSE = np.mean(error_square)\n",
    "    RMSE = np.sqrt(MSE)\n",
    "    \n",
    "    # STD and VAR value\n",
    "    STD = np.std(error_square)\n",
    "    VAR = np.var(error_square)\n",
    "    \n",
    "    return (MSE, RMSE, STD, VAR)"
   ]
  },
  {
   "cell_type": "code",
   "execution_count": 28,
   "id": "b5b8d6f8",
   "metadata": {},
   "outputs": [],
   "source": [
    "# Function to plot the loss for every epoch\n",
    "def plot_loss(history, combination):\n",
    "    \n",
    "    # Importing the style package\n",
    "    from matplotlib import style\n",
    "    # Using the style for the plot\n",
    "    plt.style.use('ggplot')\n",
    "    \n",
    "    # Summarize history for loss\n",
    "    plt.plot(history.history['loss'], label = 'train', color = 'blue')\n",
    "    plt.plot(history.history['val_loss'], label = 'test', color = 'orange')\n",
    "    plt.title('Model loss')\n",
    "    plt.ylabel('Loss')\n",
    "    plt.xlabel('Epoch')\n",
    "    plt.legend(loc='upper right')\n",
    "    \n",
    "    # Saving plot\n",
    "    name_file = 'BiLstm_alt_loss_' + combination + '.png' \n",
    "    plt.savefig(name_file, format='png', dpi=300, facecolor='white')\n",
    "    \n",
    "    plt.show()"
   ]
  },
  {
   "cell_type": "code",
   "execution_count": 29,
   "id": "3314d349",
   "metadata": {},
   "outputs": [],
   "source": [
    "# Function to plot the train prediction\n",
    "def plot_train(y_train_real, y_train_pred, combination):\n",
    "    \n",
    "    # Importing the style package\n",
    "    from matplotlib import style\n",
    "    # Using the style for the plot\n",
    "    plt.style.use('ggplot')\n",
    "    \n",
    "    # plt.plot(y_train_real, '--', label = 'Real', color = 'blue')\n",
    "    plt.plot(y_train_real, '.', markersize = 2.5, label = 'Real', color = 'blue')\n",
    "    # plt.plot(y_train_pred, '--', label = 'Pred', color = 'orange')\n",
    "    plt.plot(y_train_pred, '.', markersize = 2.5, label = 'Pred', color = 'orange')\n",
    "    plt.title('Y train')\n",
    "    plt.legend(loc='best')\n",
    "    \n",
    "    # Saving plot\n",
    "    name_file = 'BiLstm_alt_train_' + combination + '.png' \n",
    "    plt.savefig(name_file, format='png', dpi=300, facecolor='white')\n",
    "    \n",
    "    plt.show()"
   ]
  },
  {
   "cell_type": "code",
   "execution_count": 30,
   "id": "d4d486f7",
   "metadata": {},
   "outputs": [],
   "source": [
    "# Function to plot the test prediction\n",
    "def plot_test(y_test_real, y_test_pred, combination):\n",
    "    \n",
    "    # Importing the style package\n",
    "    from matplotlib import style\n",
    "    # Using the style for the plot\n",
    "    plt.style.use('ggplot')\n",
    "    \n",
    "    # plt.plot(y_test_real, '--', label = 'Real', color = 'blue')\n",
    "    plt.plot(y_test_real, '.', markersize = 2.5, label = 'Real', color = 'blue')\n",
    "    # plt.plot(y_test_pred, '--', label = 'Pred', color = 'orange')\n",
    "    plt.plot(y_test_pred, '.', markersize = 2.5, label = 'Pred', color = 'orange')\n",
    "    plt.title('Y test')\n",
    "    plt.legend(loc='best')\n",
    "    \n",
    "    # Saving plot\n",
    "    name_file = 'BiLstm_alt_test_' + combination + '.png' \n",
    "    plt.savefig(name_file, format='png', dpi=300, facecolor='white')\n",
    "    \n",
    "    plt.show()"
   ]
  },
  {
   "cell_type": "code",
   "execution_count": 31,
   "id": "4e9f28f0",
   "metadata": {
    "scrolled": true
   },
   "outputs": [
    {
     "data": {
      "image/png": "[encoded data removed]",
      "text/plain": [
       "<Figure size 432x288 with 1 Axes>"
      ]
     },
     "metadata": {},
     "output_type": "display_data"
    },
    {
     "data": {
      "image/png": "[encoded data removed]",
      "text/plain": [
       "<Figure size 432x288 with 1 Axes>"
      ]
     },
     "metadata": {},
     "output_type": "display_data"
    },
    {
     "data": {
      "image/png": "[encoded data removed]",
      "text/plain": [
       "<Figure size 432x288 with 1 Axes>"
      ]
     },
     "metadata": {},
     "output_type": "display_data"
    },
    {
     "name": "stdout",
     "output_type": "stream",
     "text": [
      "Cross validation round 1 completed!\n"
     ]
    },
    {
     "data": {
      "image/png": "[encoded data removed]",
      "text/plain": [
       "<Figure size 432x288 with 1 Axes>"
      ]
     },
     "metadata": {},
     "output_type": "display_data"
    },
    {
     "data": {
      "image/png": "[encoded data removed]",
      "text/plain": [
       "<Figure size 432x288 with 1 Axes>"
      ]
     },
     "metadata": {},
     "output_type": "display_data"
    },
    {
     "data": {
      "image/png": "[encoded data removed]",
      "text/plain": [
       "<Figure size 432x288 with 1 Axes>"
      ]
     },
     "metadata": {},
     "output_type": "display_data"
    },
    {
     "name": "stdout",
     "output_type": "stream",
     "text": [
      "Cross validation round 2 completed!\n"
     ]
    },
    {
     "data": {
      "image/png": "[encoded data removed]",
      "text/plain": [
       "<Figure size 432x288 with 1 Axes>"
      ]
     },
     "metadata": {},
     "output_type": "display_data"
    },
    {
     "data": {
      "image/png": "[encoded data removed]",
      "text/plain": [
       "<Figure size 432x288 with 1 Axes>"
      ]
     },
     "metadata": {},
     "output_type": "display_data"
    },
    {
     "data": {
      "image/png": "[encoded data removed]",
      "text/plain": [
       "<Figure size 432x288 with 1 Axes>"
      ]
     },
     "metadata": {},
     "output_type": "display_data"
    },
    {
     "name": "stdout",
     "output_type": "stream",
     "text": [
      "Cross validation round 3 completed!\n"
     ]
    },
    {
     "data": {
      "image/png": "[encoded data removed]",
      "text/plain": [
       "<Figure size 432x288 with 1 Axes>"
      ]
     },
     "metadata": {},
     "output_type": "display_data"
    },
    {
     "data": {
      "image/png": "[encoded data removed]",
      "text/plain": [
       "<Figure size 432x288 with 1 Axes>"
      ]
     },
     "metadata": {},
     "output_type": "display_data"
    },
    {
     "data": {
      "image/png": "[encoded data removed]",
      "text/plain": [
       "<Figure size 432x288 with 1 Axes>"
      ]
     },
     "metadata": {},
     "output_type": "display_data"
    },
    {
     "name": "stdout",
     "output_type": "stream",
     "text": [
      "Cross validation round 4 completed!\n"
     ]
    },
    {
     "data": {
      "image/png": "[encoded data removed]",
      "text/plain": [
       "<Figure size 432x288 with 1 Axes>"
      ]
     },
     "metadata": {},
     "output_type": "display_data"
    },
    {
     "data": {
      "image/png": "[encoded data removed]",
      "text/plain": [
       "<Figure size 432x288 with 1 Axes>"
      ]
     },
     "metadata": {},
     "output_type": "display_data"
    },
    {
     "data": {
      "image/png": "[encoded data removed]",
      "text/plain": [
       "<Figure size 432x288 with 1 Axes>"
      ]
     },
     "metadata": {},
     "output_type": "display_data"
    },
    {
     "name": "stdout",
     "output_type": "stream",
     "text": [
      "Cross validation round 5 completed!\n"
     ]
    }
   ],
   "source": [
    "for drop_perc in dropout_perc:\n",
    "    \n",
    "    scores_MSE = np.empty(splits, dtype=float)\n",
    "    scores_RMSE = np.empty(splits, dtype=float)\n",
    "    scores_STD = np.empty(splits, dtype=float)\n",
    "    scores_VAR = np.empty(splits, dtype=float)\n",
    "    idx = 0\n",
    "    \n",
    "    # Train-Test split with the cross-validator generator (5 splits)\n",
    "    for train_idx, test_idx in gss.split(X_deep_series, y_deep_mu_series, groups):\n",
    "\n",
    "        # Remove previous models\n",
    "        if 'model' in locals():\n",
    "            del(model)\n",
    "\n",
    "        # Train set\n",
    "        X_train = X_deep_series[train_idx]\n",
    "        y_train_mu = y_deep_mu_series[train_idx]\n",
    "\n",
    "        # Test set\n",
    "        X_test = X_deep_series[test_idx]\n",
    "        y_test_mu = y_deep_mu_series[test_idx]\n",
    "\n",
    "        # Standarization\n",
    "        feature_scaler, target_scaler, X_train_S, y_train_mu_S, X_test_S, y_test_mu_S = standarize(X_train, X_test, \n",
    "                                                                                                       y_train_mu, y_test_mu)\n",
    "\n",
    "        # Method parameters summary\n",
    "        combination = ('mu_tstep_' + str(X_train.shape[1]) + '-neu_' + str(neu) + '-drop_' +  str(drop_perc) + '-act_' + \n",
    "                       str(act) + '-loss_' + str(loss) + '-crossval')\n",
    "\n",
    "        # Running DL model\n",
    "        model, history = BiLstm(X_train_S, y_train_mu_S, X_test_S, y_test_mu_S, neu, act, drop_perc)\n",
    "        MSE, RMSE, STD, VAR = error_pred(model, history, X_train_S, y_train_mu_S, X_test_S, y_test_mu_S)\n",
    "\n",
    "        # Adding MSE and RMSE mean value of the DL model prediction\n",
    "        scores_MSE[idx] = MSE\n",
    "        scores_RMSE[idx] = RMSE\n",
    "        scores_STD[idx] = STD\n",
    "        scores_VAR[idx] = VAR\n",
    "        idx += 1\n",
    "\n",
    "        # Train Prediction\n",
    "        y_train_mu_pred = model.predict(X_train_S)\n",
    "        y_train_mu_pred_inv = target_scaler.inverse_transform(y_train_mu_pred)\n",
    "        \n",
    "        # Test Prediction\n",
    "        y_pred = model.predict(X_test_S)\n",
    "        y_pred_inv = target_scaler.inverse_transform(y_pred)\n",
    "        \n",
    "        # Official data rescale\n",
    "        y_train_mu_series_inv = target_scaler.inverse_transform(y_train_mu_S)\n",
    "        y_test_mu_series_inv = target_scaler.inverse_transform(y_test_mu_S)\n",
    "        \n",
    "        # Plots\n",
    "        short_comb = 'mu_neu_' + str(neu) + '-drop_' + str(drop_perc) + '-act_' + str(act)\n",
    "        plot_loss(history, short_comb)\n",
    "        plot_train(y_train_mu_series_inv, y_train_mu_pred_inv, short_comb)\n",
    "        plot_test(y_test_mu_series_inv, y_pred_inv, short_comb)\n",
    "        \n",
    "        # Print when an iteration has ended\n",
    "        print(\"Cross validation round {} completed!\".format(idx))\n",
    "    \n",
    "    # Saving MSE and RMSE data in file text for every combination\n",
    "    file_name = combination + '.txt'\n",
    "    file = open(file_name, \"w+\")\n",
    "\n",
    "    file.write('MSE' + '\\t' + 'RMSE' + '\\t' + 'STD' + '\\t' + 'VAR' +  '\\n')\n",
    "    for MSE_val, RMSE_val, STD_val, VAR_val in zip(scores_MSE, scores_RMSE, scores_STD, scores_VAR):\n",
    "        line = str(MSE_val) + '\\t' + str(RMSE_val) + '\\t' + str(STD_val) + '\\t' + str(VAR_val)\n",
    "        file.write(line + '\\n')\n",
    "    file.write('\\n' + 'Mean MSE' + '\\t' + 'Mean RMSE' + '\\t' + 'Mean STD' + '\\t' + 'Mean VAR' + '\\n')\n",
    "    file.write(str(np.mean(scores_MSE)) + '\\t' + str(np.mean(scores_RMSE)) + '\\t' + str(np.mean(scores_STD)) + '\\t' + str(np.mean(scores_VAR)))\n",
    "    \n",
    "    file.close()\n",
    "    clear_output(wait=True)"
   ]
  },
  {
   "cell_type": "code",
   "execution_count": 32,
   "id": "0379890b",
   "metadata": {},
   "outputs": [
    {
     "data": {
      "text/plain": [
       "(array([  0,   2,   3,   4,   6,   7,   9,  10,  11,  12,  13,  16,  17,\n",
       "         18,  19,  20,  21,  22,  23,  24,  27,  28,  29,  31,  33,  34,\n",
       "         36,  37,  38,  39,  41,  42,  43,  44,  45,  46,  47,  48,  49,\n",
       "         50,  51,  53,  54,  55,  56,  57,  59,  60,  61,  62,  63,  64,\n",
       "         65,  66,  68,  69,  70,  71,  72,  73,  74,  75,  77,  78,  79,\n",
       "         80,  81,  82,  85,  86,  87,  89,  91,  92,  93,  94,  96,  98,\n",
       "         99, 100, 102, 103, 104, 106, 107, 108, 109, 110, 111, 112, 113,\n",
       "        115, 116, 117, 118, 119, 120, 121, 123, 124, 125, 127, 128, 129,\n",
       "        131, 132, 133, 134, 135, 136, 137, 138, 139, 142, 143, 144, 145,\n",
       "        146, 147, 148, 149, 150, 151, 152, 153, 154, 155, 157, 158, 159,\n",
       "        160, 161, 162, 163, 164, 166, 167, 168, 170, 171, 172, 173, 175,\n",
       "        176, 177, 179, 180, 181, 182, 183, 185, 186, 187, 188, 189, 190,\n",
       "        191, 195, 199, 201, 202, 203, 205, 208, 209, 210, 211, 212, 213,\n",
       "        214, 215, 216, 218, 219, 220, 221, 222, 223, 224, 225, 226, 227,\n",
       "        228, 229, 230, 231, 232, 233, 234, 235, 236, 237, 238, 239, 240,\n",
       "        241, 243, 245, 246, 247, 248, 251, 252, 253, 254, 255, 257, 258,\n",
       "        259, 260, 261, 262, 263, 265, 266, 267, 268, 269, 270, 272, 273,\n",
       "        275, 276, 277, 278, 281, 282, 283, 284, 286, 287, 288, 289, 290,\n",
       "        291, 294, 295, 296, 299, 300, 301, 304, 306, 307, 309, 310, 311,\n",
       "        312, 313, 314, 315, 316, 317, 318, 319, 320, 321, 322, 323, 325,\n",
       "        326, 328, 329, 332, 333, 335, 336, 337, 339, 340, 341, 342, 343,\n",
       "        344, 345, 346, 348, 349, 351, 352, 353, 354, 355, 356, 358, 359,\n",
       "        360, 361, 363, 364, 365, 366, 367, 369, 370, 371, 372, 373, 375,\n",
       "        376, 378, 379, 380, 381, 383, 384, 385, 386, 387, 388, 389, 391,\n",
       "        392, 393, 394, 395, 396, 397, 398, 399, 400, 401, 402, 403, 404,\n",
       "        405, 406, 408, 410, 412, 413, 414, 415, 416, 418, 419, 420, 421,\n",
       "        422, 424, 426, 427, 428, 429, 432, 434, 435, 436, 437, 438, 439,\n",
       "        441, 442, 443, 444, 445, 446, 447, 448, 449, 450, 452, 453, 454,\n",
       "        455, 456, 457, 458, 459, 460, 461, 462, 464, 465, 466, 467, 468,\n",
       "        469, 470, 471, 475, 476, 477, 478, 479, 480, 481, 482, 483, 485,\n",
       "        486, 487, 488, 489, 490, 491, 493, 495, 496, 497, 499, 500, 502,\n",
       "        503, 505, 506, 508, 510, 511, 512, 513, 514, 516, 517, 518, 519,\n",
       "        520, 521, 522, 524, 525, 526, 527, 528, 529, 530, 531, 533, 534,\n",
       "        536, 537, 538, 539, 540, 541, 542, 543, 544, 545, 546, 547, 548,\n",
       "        549, 550, 551, 552, 554, 555, 558, 559, 560, 561, 562, 563, 565,\n",
       "        566, 567, 568, 571, 575, 576, 577, 578, 580, 581, 582, 583, 584,\n",
       "        586, 587, 588, 590, 591, 592], dtype=int64),\n",
       " array([  1,   5,   8,  14,  15,  25,  26,  30,  32,  35,  40,  52,  58,\n",
       "         67,  76,  83,  84,  88,  90,  95,  97, 101, 105, 114, 122, 126,\n",
       "        130, 140, 141, 156, 165, 169, 174, 178, 184, 192, 193, 194, 196,\n",
       "        197, 198, 200, 204, 206, 207, 217, 242, 244, 249, 250, 256, 264,\n",
       "        271, 274, 279, 280, 285, 292, 293, 297, 298, 302, 303, 305, 308,\n",
       "        324, 327, 330, 331, 334, 338, 347, 350, 357, 362, 368, 374, 377,\n",
       "        382, 390, 407, 409, 411, 417, 423, 425, 430, 431, 433, 440, 451,\n",
       "        463, 472, 473, 474, 484, 492, 494, 498, 501, 504, 507, 509, 515,\n",
       "        523, 532, 535, 553, 556, 557, 564, 569, 570, 572, 573, 574, 579,\n",
       "        585, 589], dtype=int64))"
      ]
     },
     "execution_count": 32,
     "metadata": {},
     "output_type": "execute_result"
    }
   ],
   "source": [
    "train_idx, test_idx"
   ]
  }
 ],
 "metadata": {
  "kernelspec": {
   "display_name": "Python 3 (ipykernel)",
   "language": "python",
   "name": "python3"
  },
  "language_info": {
   "codemirror_mode": {
    "name": "ipython",
    "version": 3
   },
   "file_extension": ".py",
   "mimetype": "text/x-python",
   "name": "python",
   "nbconvert_exporter": "python",
   "pygments_lexer": "ipython3",
   "version": "3.9.12"
  }
 },
 "nbformat": 4,
 "nbformat_minor": 5
}
