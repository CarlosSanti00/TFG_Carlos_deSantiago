{
 "cells": [
  {
   "cell_type": "markdown",
   "id": "6007da2e",
   "metadata": {},
   "source": [
    "# Calculation of the number of hospitalisations"
   ]
  },
  {
   "cell_type": "code",
   "execution_count": 1,
   "id": "b998b5a9",
   "metadata": {},
   "outputs": [],
   "source": [
    "import matplotlib.pyplot as plt \n",
    "%matplotlib inline\n",
    "import pandas as pd\n",
    "import numpy as np\n",
    "from IPython import display"
   ]
  },
  {
   "cell_type": "code",
   "execution_count": 2,
   "id": "1c6562e2",
   "metadata": {},
   "outputs": [
    {
     "data": {
      "text/html": [
       "<div>\n",
       "<style scoped>\n",
       "    .dataframe tbody tr th:only-of-type {\n",
       "        vertical-align: middle;\n",
       "    }\n",
       "\n",
       "    .dataframe tbody tr th {\n",
       "        vertical-align: top;\n",
       "    }\n",
       "\n",
       "    .dataframe thead th {\n",
       "        text-align: right;\n",
       "    }\n",
       "</style>\n",
       "<table border=\"1\" class=\"dataframe\">\n",
       "  <thead>\n",
       "    <tr style=\"text-align: right;\">\n",
       "      <th></th>\n",
       "      <th>provincia_iso</th>\n",
       "      <th>sexo</th>\n",
       "      <th>grupo_edad</th>\n",
       "      <th>fecha</th>\n",
       "      <th>num_casos</th>\n",
       "      <th>num_hosp</th>\n",
       "      <th>num_uci</th>\n",
       "      <th>num_def</th>\n",
       "    </tr>\n",
       "  </thead>\n",
       "  <tbody>\n",
       "    <tr>\n",
       "      <th>0</th>\n",
       "      <td>A</td>\n",
       "      <td>H</td>\n",
       "      <td>0-9</td>\n",
       "      <td>2020-01-01</td>\n",
       "      <td>0</td>\n",
       "      <td>0</td>\n",
       "      <td>0</td>\n",
       "      <td>0</td>\n",
       "    </tr>\n",
       "    <tr>\n",
       "      <th>1</th>\n",
       "      <td>A</td>\n",
       "      <td>H</td>\n",
       "      <td>10-19</td>\n",
       "      <td>2020-01-01</td>\n",
       "      <td>0</td>\n",
       "      <td>0</td>\n",
       "      <td>0</td>\n",
       "      <td>0</td>\n",
       "    </tr>\n",
       "    <tr>\n",
       "      <th>2</th>\n",
       "      <td>A</td>\n",
       "      <td>H</td>\n",
       "      <td>20-29</td>\n",
       "      <td>2020-01-01</td>\n",
       "      <td>0</td>\n",
       "      <td>0</td>\n",
       "      <td>0</td>\n",
       "      <td>0</td>\n",
       "    </tr>\n",
       "    <tr>\n",
       "      <th>3</th>\n",
       "      <td>A</td>\n",
       "      <td>H</td>\n",
       "      <td>30-39</td>\n",
       "      <td>2020-01-01</td>\n",
       "      <td>0</td>\n",
       "      <td>0</td>\n",
       "      <td>0</td>\n",
       "      <td>0</td>\n",
       "    </tr>\n",
       "    <tr>\n",
       "      <th>4</th>\n",
       "      <td>A</td>\n",
       "      <td>H</td>\n",
       "      <td>40-49</td>\n",
       "      <td>2020-01-01</td>\n",
       "      <td>0</td>\n",
       "      <td>0</td>\n",
       "      <td>0</td>\n",
       "      <td>0</td>\n",
       "    </tr>\n",
       "  </tbody>\n",
       "</table>\n",
       "</div>"
      ],
      "text/plain": [
       "  provincia_iso sexo grupo_edad       fecha  num_casos  num_hosp  num_uci  \\\n",
       "0             A    H        0-9  2020-01-01          0         0        0   \n",
       "1             A    H      10-19  2020-01-01          0         0        0   \n",
       "2             A    H      20-29  2020-01-01          0         0        0   \n",
       "3             A    H      30-39  2020-01-01          0         0        0   \n",
       "4             A    H      40-49  2020-01-01          0         0        0   \n",
       "\n",
       "   num_def  \n",
       "0        0  \n",
       "1        0  \n",
       "2        0  \n",
       "3        0  \n",
       "4        0  "
      ]
     },
     "execution_count": 2,
     "metadata": {},
     "output_type": "execute_result"
    }
   ],
   "source": [
    "# Reading the data\n",
    "# Original data available in: https://cnecovid.isciii.es/covid19/#documentaci%C3%B3n-y-datos\n",
    "df = pd.read_csv('casos_hosp_uci_def_sexo_edad_provres.csv')\n",
    "df.head()"
   ]
  },
  {
   "cell_type": "code",
   "execution_count": 3,
   "id": "7afaf5a0",
   "metadata": {},
   "outputs": [
    {
     "data": {
      "text/plain": [
       "(1367400,\n",
       " array(['2020-01-01', '2020-01-01', '2020-01-01', '2020-01-01',\n",
       "        '2020-01-01'], dtype=object))"
      ]
     },
     "execution_count": 3,
     "metadata": {},
     "output_type": "execute_result"
    }
   ],
   "source": [
    "# Obtaining the date 'fecha' column\n",
    "df_date = df.values[:,3]\n",
    "len(df_date), df_date[0:5]"
   ]
  },
  {
   "cell_type": "code",
   "execution_count": 4,
   "id": "56ac9252",
   "metadata": {},
   "outputs": [
    {
     "name": "stdout",
     "output_type": "stream",
     "text": [
      "Each day involves a total of 1590 rows from the complete dataset:\n",
      "\n",
      "2020-01-01  ->  2020-01-02\n",
      "2020-01-02  ->  2020-01-03\n",
      "2020-01-03  ->  2020-01-04\n"
     ]
    }
   ],
   "source": [
    "# Obtaining the number of rows between different days\n",
    "initial_date = '2020-01-01'\n",
    "range_each_date = np.where(df_date == initial_date)[0][-1] + 1\n",
    "\n",
    "print(\"Each day involves a total of {} rows from the complete dataset:\\n\".format(range_each_date))\n",
    "print(df_date[range_each_date-1], ' -> ', df_date[range_each_date])\n",
    "print(df_date[(range_each_date*2)-1], ' -> ', df_date[(range_each_date*2)])\n",
    "print(df_date[(range_each_date*3)-1], ' -> ', df_date[(range_each_date*3)])"
   ]
  },
  {
   "cell_type": "code",
   "execution_count": 5,
   "id": "8c42681c",
   "metadata": {},
   "outputs": [
    {
     "data": {
      "text/plain": [
       "(860,\n",
       " array(['2020-01-01', '2020-01-02', '2020-01-03', '2020-01-04',\n",
       "        '2020-01-05'], dtype=object),\n",
       " array(['2022-05-05', '2022-05-06', '2022-05-07', '2022-05-08',\n",
       "        '2022-05-09'], dtype=object))"
      ]
     },
     "execution_count": 5,
     "metadata": {},
     "output_type": "execute_result"
    }
   ],
   "source": [
    "# Array with unique dates (no repeated)\n",
    "dates = np.unique(df_date)\n",
    "\n",
    "len(dates), dates[0:5], dates[-5:len(dates)]"
   ]
  },
  {
   "cell_type": "code",
   "execution_count": 6,
   "id": "cf0ec45f",
   "metadata": {},
   "outputs": [
    {
     "data": {
      "text/plain": [
       "(860,\n",
       " array([8, 74, 8, 8, 7, 4, 7, 5, 8, 9, 3, 6, 8, 10, 10, 6, 4, 5, 5, 11],\n",
       "       dtype=object),\n",
       " array([584, 567, 550, 436, 394, 579, 600, 619, 577, 533, 496, 420, 558,\n",
       "        545, 551, 502, 359, 275, 177, 3], dtype=object))"
      ]
     },
     "execution_count": 6,
     "metadata": {},
     "output_type": "execute_result"
    }
   ],
   "source": [
    "# Obtaining the hospitalizations data\n",
    "df_hosp = df['num_hosp'].values\n",
    "\n",
    "# Grouping the data into the range defined by the dates\n",
    "hosp = np.empty(len(dates), dtype=object)\n",
    "index = 0\n",
    "for i in range(0, len(df_hosp), range_each_date):\n",
    "    hosp[index] = np.sum(df_hosp[i:i+range_each_date])\n",
    "    index += 1\n",
    "\n",
    "len(hosp), hosp[0:20], hosp[-20:len(hosp)]"
   ]
  },
  {
   "cell_type": "code",
   "execution_count": 7,
   "id": "e5a1bcd1",
   "metadata": {},
   "outputs": [
    {
     "data": {
      "text/plain": [
       "(860,\n",
       " array([0, 1, 1, 0, 0, 0, 1, 0, 0, 0, 1, 0, 0, 1, 1, 0, 0, 0, 1, 0],\n",
       "       dtype=object),\n",
       " array([30, 25, 25, 18, 24, 26, 21, 24, 33, 25, 14, 21, 21, 28, 23, 17, 8,\n",
       "        4, 5, 0], dtype=object))"
      ]
     },
     "execution_count": 7,
     "metadata": {},
     "output_type": "execute_result"
    }
   ],
   "source": [
    "# Obtaining the UCI data\n",
    "df_UCI = df['num_uci'].values\n",
    "\n",
    "# Grouping the data into the range defined by the dates\n",
    "UCI = np.empty(len(dates), dtype=object)\n",
    "index = 0\n",
    "for i in range(0, len(df_UCI), range_each_date):\n",
    "    UCI[index] = np.sum(df_UCI[i:i+range_each_date])\n",
    "    index += 1\n",
    "\n",
    "len(UCI), UCI[0:20], UCI[-20:len(UCI)]"
   ]
  },
  {
   "cell_type": "code",
   "execution_count": 8,
   "id": "04b50d20",
   "metadata": {},
   "outputs": [
    {
     "data": {
      "text/plain": [
       "((860,),\n",
       " array([0, 0, 0, 0, 0, 0, 16.571428571428573, 16.142857142857142,\n",
       "        6.714285714285714, 6.857142857142857], dtype=object),\n",
       " array([515.0, 490.14285714285717, 458.57142857142856, 423.85714285714283,\n",
       "        344.57142857142856], dtype=object))"
      ]
     },
     "execution_count": 8,
     "metadata": {},
     "output_type": "execute_result"
    }
   ],
   "source": [
    "# Smoothing the data (7 time moving average)\n",
    "\n",
    "# Hospitalization smooth array\n",
    "hosp_smooth = np.empty(len(hosp), dtype = object)\n",
    "\n",
    "# First 6 values set null to maintain the shape (860 data points)\n",
    "for i in range(0, 6):\n",
    "    hosp_smooth[i] = 0\n",
    "\n",
    "# Moving average in 7 days\n",
    "for i in range(0, len(hosp)-6):\n",
    "    sum_H = 0\n",
    "    for j in range(i, i+7):\n",
    "        sum_H = sum_H + hosp[j]\n",
    "    hosp_smooth[i+6] = (sum_H/7)\n",
    "\n",
    "hosp_smooth.shape, hosp_smooth[0:10], hosp_smooth[-5:len(hosp_smooth)]"
   ]
  },
  {
   "cell_type": "code",
   "execution_count": 9,
   "id": "d6471f8f",
   "metadata": {},
   "outputs": [
    {
     "data": {
      "text/plain": [
       "((860,),\n",
       " array([0, 0, 0, 0, 0, 0, 0.42857142857142855, 0.42857142857142855,\n",
       "        0.2857142857142857, 0.14285714285714285], dtype=object),\n",
       " array([21.285714285714285, 18.857142857142858, 17.428571428571427,\n",
       "        15.142857142857142, 12.142857142857142], dtype=object))"
      ]
     },
     "execution_count": 9,
     "metadata": {},
     "output_type": "execute_result"
    }
   ],
   "source": [
    "# Smoothing the data (7 time moving average)\n",
    "\n",
    "# UCI smooth\n",
    "UCI_smooth = np.empty(len(UCI), dtype = object)\n",
    "\n",
    "# First 6 values set null to maintain the shape (860 data points)\n",
    "for i in range(0, 6):\n",
    "    UCI_smooth[i] = 0\n",
    "\n",
    "# Moving average in 7 days\n",
    "for i in range(0, len(UCI)-6):\n",
    "    sum_UCI = 0\n",
    "    for j in range(i, i+7):\n",
    "        sum_UCI = sum_UCI + UCI[j]\n",
    "    UCI_smooth[i+6] = (sum_UCI/7)\n",
    "\n",
    "UCI_smooth.shape, UCI_smooth[0:10], UCI_smooth[-5:len(UCI_smooth)]"
   ]
  },
  {
   "cell_type": "code",
   "execution_count": 10,
   "id": "0a6d7566",
   "metadata": {},
   "outputs": [
    {
     "data": {
      "text/plain": [
       "(728,\n",
       " 728,\n",
       " 728,\n",
       " 728,\n",
       " 728,\n",
       " array(['2020-03-21', '2020-03-22', '2020-03-23', '2020-03-24',\n",
       "        '2020-03-25'], dtype=object),\n",
       " array(['2022-03-14', '2022-03-15', '2022-03-16', '2022-03-17',\n",
       "        '2022-03-18'], dtype=object))"
      ]
     },
     "execution_count": 10,
     "metadata": {},
     "output_type": "execute_result"
    }
   ],
   "source": [
    "# Selecting only the range of dates in which we have previosly calculated the final parameters\n",
    "first_day = '2020-03-21'\n",
    "last_day = '2022-03-18'\n",
    "\n",
    "first_index = np.where(dates == first_day)[0][0]\n",
    "last_index = np.where(dates == last_day)[0][0]\n",
    "\n",
    "final_dates = dates[first_index:last_index+1]\n",
    "final_hosp = hosp[first_index:last_index+1]\n",
    "final_UCI = UCI[first_index:last_index+1]\n",
    "final_hosp_smooth = hosp_smooth[first_index:last_index+1]\n",
    "final_UCI_smooth = UCI_smooth[first_index:last_index+1]\n",
    "\n",
    "len(final_dates), len(final_hosp), len(final_UCI), len(final_hosp_smooth), len(final_UCI_smooth), final_dates[0:5], final_dates[-5:len(final_dates)]"
   ]
  },
  {
   "cell_type": "code",
   "execution_count": 11,
   "id": "74e43057",
   "metadata": {},
   "outputs": [
    {
     "data": {
      "text/plain": [
       "((728,),\n",
       " array(['Spain', 'Spain', 'Spain', 'Spain', 'Spain', 'Spain', 'Spain',\n",
       "        'Spain', 'Spain', 'Spain'], dtype=object))"
      ]
     },
     "execution_count": 11,
     "metadata": {},
     "output_type": "execute_result"
    }
   ],
   "source": [
    "# Create array with the name of the country\n",
    "region = np.empty(len(final_dates), dtype = object)\n",
    "for i in range(len(region)):\n",
    "    region[i] = 'Spain'\n",
    "    \n",
    "region.shape, region[0:10]"
   ]
  },
  {
   "cell_type": "code",
   "execution_count": 12,
   "id": "f54be844",
   "metadata": {},
   "outputs": [
    {
     "data": {
      "text/plain": [
       "((728, 6),\n",
       " array([['Spain', '2020-03-21', 3495, 2826.1428571428573, 340, 279.0],\n",
       "        ['Spain', '2020-03-22', 3333, 3106.5714285714284, 380,\n",
       "         309.42857142857144],\n",
       "        ['Spain', '2020-03-23', 4943, 3509.5714285714284, 448,\n",
       "         342.42857142857144],\n",
       "        ['Spain', '2020-03-24', 5307, 3920.285714285714, 511,\n",
       "         379.7142857142857],\n",
       "        ['Spain', '2020-03-25', 5207, 4222.285714285715, 465,\n",
       "         401.85714285714283],\n",
       "        ['Spain', '2020-03-26', 5040, 4463.0, 436, 416.14285714285717],\n",
       "        ['Spain', '2020-03-27', 4810, 4590.714285714285, 373,\n",
       "         421.85714285714283],\n",
       "        ['Spain', '2020-03-28', 3393, 4576.142857142857, 334, 421.0],\n",
       "        ['Spain', '2020-03-29', 2657, 4479.571428571428, 278,\n",
       "         406.42857142857144],\n",
       "        ['Spain', '2020-03-30', 3933, 4335.285714285715, 335,\n",
       "         390.2857142857143]], dtype=object))"
      ]
     },
     "execution_count": 12,
     "metadata": {},
     "output_type": "execute_result"
    }
   ],
   "source": [
    "# Array concatenation for building the final dataframe\n",
    "\n",
    "columns = 6  # Number of columns\n",
    "X_total = np.empty((len(final_dates), columns), dtype = object)\n",
    "\n",
    "for i in range(len(final_dates)):\n",
    "    X_total[i] = [region[i], final_dates[i], final_hosp[i], final_hosp_smooth[i], final_UCI[i], final_UCI_smooth[i]]\n",
    "    \n",
    "X_total.shape, X_total[0:10]"
   ]
  },
  {
   "cell_type": "code",
   "execution_count": 13,
   "id": "44755fc2",
   "metadata": {},
   "outputs": [],
   "source": [
    "# Labels of each column of the dataframe\n",
    "labels = ['Country/Region', 'Date', 'Num Hospitalizations', 'Num Hospitalizations Smooth (7 days)', \n",
    "         'Num UCI', 'Num UCI Smooth (7 days)']"
   ]
  },
  {
   "cell_type": "code",
   "execution_count": 14,
   "id": "29fedbbb",
   "metadata": {},
   "outputs": [
    {
     "data": {
      "text/html": [
       "<div>\n",
       "<style scoped>\n",
       "    .dataframe tbody tr th:only-of-type {\n",
       "        vertical-align: middle;\n",
       "    }\n",
       "\n",
       "    .dataframe tbody tr th {\n",
       "        vertical-align: top;\n",
       "    }\n",
       "\n",
       "    .dataframe thead th {\n",
       "        text-align: right;\n",
       "    }\n",
       "</style>\n",
       "<table border=\"1\" class=\"dataframe\">\n",
       "  <thead>\n",
       "    <tr style=\"text-align: right;\">\n",
       "      <th></th>\n",
       "      <th>Country/Region</th>\n",
       "      <th>Date</th>\n",
       "      <th>Num Hospitalizations</th>\n",
       "      <th>Num Hospitalizations Smooth (7 days)</th>\n",
       "      <th>Num UCI</th>\n",
       "      <th>Num UCI Smooth (7 days)</th>\n",
       "    </tr>\n",
       "  </thead>\n",
       "  <tbody>\n",
       "    <tr>\n",
       "      <th>0</th>\n",
       "      <td>Spain</td>\n",
       "      <td>2020-03-21</td>\n",
       "      <td>3495</td>\n",
       "      <td>2826.142857</td>\n",
       "      <td>340</td>\n",
       "      <td>279.0</td>\n",
       "    </tr>\n",
       "    <tr>\n",
       "      <th>1</th>\n",
       "      <td>Spain</td>\n",
       "      <td>2020-03-22</td>\n",
       "      <td>3333</td>\n",
       "      <td>3106.571429</td>\n",
       "      <td>380</td>\n",
       "      <td>309.428571</td>\n",
       "    </tr>\n",
       "    <tr>\n",
       "      <th>2</th>\n",
       "      <td>Spain</td>\n",
       "      <td>2020-03-23</td>\n",
       "      <td>4943</td>\n",
       "      <td>3509.571429</td>\n",
       "      <td>448</td>\n",
       "      <td>342.428571</td>\n",
       "    </tr>\n",
       "    <tr>\n",
       "      <th>3</th>\n",
       "      <td>Spain</td>\n",
       "      <td>2020-03-24</td>\n",
       "      <td>5307</td>\n",
       "      <td>3920.285714</td>\n",
       "      <td>511</td>\n",
       "      <td>379.714286</td>\n",
       "    </tr>\n",
       "    <tr>\n",
       "      <th>4</th>\n",
       "      <td>Spain</td>\n",
       "      <td>2020-03-25</td>\n",
       "      <td>5207</td>\n",
       "      <td>4222.285714</td>\n",
       "      <td>465</td>\n",
       "      <td>401.857143</td>\n",
       "    </tr>\n",
       "    <tr>\n",
       "      <th>...</th>\n",
       "      <td>...</td>\n",
       "      <td>...</td>\n",
       "      <td>...</td>\n",
       "      <td>...</td>\n",
       "      <td>...</td>\n",
       "      <td>...</td>\n",
       "    </tr>\n",
       "    <tr>\n",
       "      <th>723</th>\n",
       "      <td>Spain</td>\n",
       "      <td>2022-03-14</td>\n",
       "      <td>356</td>\n",
       "      <td>318.142857</td>\n",
       "      <td>19</td>\n",
       "      <td>19.142857</td>\n",
       "    </tr>\n",
       "    <tr>\n",
       "      <th>724</th>\n",
       "      <td>Spain</td>\n",
       "      <td>2022-03-15</td>\n",
       "      <td>375</td>\n",
       "      <td>320.857143</td>\n",
       "      <td>19</td>\n",
       "      <td>18.285714</td>\n",
       "    </tr>\n",
       "    <tr>\n",
       "      <th>725</th>\n",
       "      <td>Spain</td>\n",
       "      <td>2022-03-16</td>\n",
       "      <td>365</td>\n",
       "      <td>324.857143</td>\n",
       "      <td>12</td>\n",
       "      <td>16.857143</td>\n",
       "    </tr>\n",
       "    <tr>\n",
       "      <th>726</th>\n",
       "      <td>Spain</td>\n",
       "      <td>2022-03-17</td>\n",
       "      <td>343</td>\n",
       "      <td>328.285714</td>\n",
       "      <td>17</td>\n",
       "      <td>17.428571</td>\n",
       "    </tr>\n",
       "    <tr>\n",
       "      <th>727</th>\n",
       "      <td>Spain</td>\n",
       "      <td>2022-03-18</td>\n",
       "      <td>354</td>\n",
       "      <td>333.857143</td>\n",
       "      <td>10</td>\n",
       "      <td>15.714286</td>\n",
       "    </tr>\n",
       "  </tbody>\n",
       "</table>\n",
       "<p>728 rows × 6 columns</p>\n",
       "</div>"
      ],
      "text/plain": [
       "    Country/Region        Date Num Hospitalizations  \\\n",
       "0            Spain  2020-03-21                 3495   \n",
       "1            Spain  2020-03-22                 3333   \n",
       "2            Spain  2020-03-23                 4943   \n",
       "3            Spain  2020-03-24                 5307   \n",
       "4            Spain  2020-03-25                 5207   \n",
       "..             ...         ...                  ...   \n",
       "723          Spain  2022-03-14                  356   \n",
       "724          Spain  2022-03-15                  375   \n",
       "725          Spain  2022-03-16                  365   \n",
       "726          Spain  2022-03-17                  343   \n",
       "727          Spain  2022-03-18                  354   \n",
       "\n",
       "    Num Hospitalizations Smooth (7 days) Num UCI Num UCI Smooth (7 days)  \n",
       "0                            2826.142857     340                   279.0  \n",
       "1                            3106.571429     380              309.428571  \n",
       "2                            3509.571429     448              342.428571  \n",
       "3                            3920.285714     511              379.714286  \n",
       "4                            4222.285714     465              401.857143  \n",
       "..                                   ...     ...                     ...  \n",
       "723                           318.142857      19               19.142857  \n",
       "724                           320.857143      19               18.285714  \n",
       "725                           324.857143      12               16.857143  \n",
       "726                           328.285714      17               17.428571  \n",
       "727                           333.857143      10               15.714286  \n",
       "\n",
       "[728 rows x 6 columns]"
      ]
     },
     "execution_count": 14,
     "metadata": {},
     "output_type": "execute_result"
    }
   ],
   "source": [
    "# Creation of the final dataframe\n",
    "df_final = pd.DataFrame(data=X_total, columns=labels)\n",
    "df_final"
   ]
  },
  {
   "cell_type": "code",
   "execution_count": 15,
   "id": "7958761b",
   "metadata": {},
   "outputs": [],
   "source": [
    "# Export dataframe to a csv file\n",
    "\n",
    "from pathlib import Path  \n",
    "filepath = Path('Hosp_UCI_Spain.csv')  \n",
    "filepath.parent.mkdir(parents=True, exist_ok=True)  \n",
    "df_final.to_csv(filepath, index=False)"
   ]
  }
 ],
 "metadata": {
  "kernelspec": {
   "display_name": "Python 3 (ipykernel)",
   "language": "python",
   "name": "python3"
  },
  "language_info": {
   "codemirror_mode": {
    "name": "ipython",
    "version": 3
   },
   "file_extension": ".py",
   "mimetype": "text/x-python",
   "name": "python",
   "nbconvert_exporter": "python",
   "pygments_lexer": "ipython3",
   "version": "3.9.12"
  }
 },
 "nbformat": 4,
 "nbformat_minor": 5
}
