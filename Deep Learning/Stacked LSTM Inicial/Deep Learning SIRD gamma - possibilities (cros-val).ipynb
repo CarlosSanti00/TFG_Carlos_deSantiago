{
 "cells": [
  {
   "cell_type": "markdown",
   "id": "bac4c9ce",
   "metadata": {},
   "source": [
    "# Deep Learning for Predicting SIRD model parameters"
   ]
  },
  {
   "cell_type": "code",
   "execution_count": 1,
   "id": "20bb4e39",
   "metadata": {},
   "outputs": [],
   "source": [
    "import matplotlib.pyplot as plt \n",
    "%matplotlib inline\n",
    "import pandas as pd\n",
    "import numpy as np\n",
    "from IPython import display\n",
    "import time\n",
    "import os\n",
    "from IPython.display import clear_output"
   ]
  },
  {
   "cell_type": "code",
   "execution_count": 2,
   "id": "9f0be137",
   "metadata": {},
   "outputs": [],
   "source": [
    "import tensorflow as tf\n",
    "from tensorflow import keras\n",
    "from sklearn.model_selection import train_test_split\n",
    "import seaborn as sns\n",
    "from pylab import rcParams\n",
    "from matplotlib import rc\n",
    "from pandas.plotting import register_matplotlib_converters"
   ]
  },
  {
   "cell_type": "code",
   "execution_count": 3,
   "id": "1d53c78d",
   "metadata": {},
   "outputs": [],
   "source": [
    "tf.random.set_seed(1234)"
   ]
  },
  {
   "cell_type": "markdown",
   "id": "7d565510",
   "metadata": {},
   "source": [
    "## 1. Data Analysis"
   ]
  },
  {
   "cell_type": "code",
   "execution_count": 4,
   "id": "8d9a9a15",
   "metadata": {},
   "outputs": [],
   "source": [
    "# Reading csv with all features and target values\n",
    "df = pd.read_csv(\"Final_Smooth_Features_Spain.csv\")"
   ]
  },
  {
   "cell_type": "code",
   "execution_count": 5,
   "id": "f035b451",
   "metadata": {},
   "outputs": [
    {
     "data": {
      "text/html": [
       "<div>\n",
       "<style scoped>\n",
       "    .dataframe tbody tr th:only-of-type {\n",
       "        vertical-align: middle;\n",
       "    }\n",
       "\n",
       "    .dataframe tbody tr th {\n",
       "        vertical-align: top;\n",
       "    }\n",
       "\n",
       "    .dataframe thead th {\n",
       "        text-align: right;\n",
       "    }\n",
       "</style>\n",
       "<table border=\"1\" class=\"dataframe\">\n",
       "  <thead>\n",
       "    <tr style=\"text-align: right;\">\n",
       "      <th></th>\n",
       "      <th>ISO_code</th>\n",
       "      <th>Continent</th>\n",
       "      <th>Country/Region</th>\n",
       "      <th>Date</th>\n",
       "      <th>Susceptibles Smooth (S)</th>\n",
       "      <th>Infected Smooth (I)</th>\n",
       "      <th>Recovered Smooth (R)</th>\n",
       "      <th>Deaths Smooth (D)</th>\n",
       "      <th>Mu Smooth</th>\n",
       "      <th>Beta Smooth</th>\n",
       "      <th>Gamma Smooth</th>\n",
       "      <th>Positive Test Rate Smooth</th>\n",
       "      <th>Mobility Rate Smooth</th>\n",
       "    </tr>\n",
       "  </thead>\n",
       "  <tbody>\n",
       "    <tr>\n",
       "      <th>0</th>\n",
       "      <td>ESP</td>\n",
       "      <td>Europe</td>\n",
       "      <td>Spain</td>\n",
       "      <td>2020-03-21</td>\n",
       "      <td>4.731731e+07</td>\n",
       "      <td>14340.142857</td>\n",
       "      <td>247.000000</td>\n",
       "      <td>719.285714</td>\n",
       "      <td>0.014040</td>\n",
       "      <td>0.193532</td>\n",
       "      <td>0.042238</td>\n",
       "      <td>0.395</td>\n",
       "      <td>-0.528571</td>\n",
       "    </tr>\n",
       "    <tr>\n",
       "      <th>1</th>\n",
       "      <td>ESP</td>\n",
       "      <td>Europe</td>\n",
       "      <td>Spain</td>\n",
       "      <td>2020-03-22</td>\n",
       "      <td>4.731431e+07</td>\n",
       "      <td>17042.285714</td>\n",
       "      <td>328.714286</td>\n",
       "      <td>931.142857</td>\n",
       "      <td>0.015943</td>\n",
       "      <td>0.190061</td>\n",
       "      <td>0.032033</td>\n",
       "      <td>0.406</td>\n",
       "      <td>-0.545714</td>\n",
       "    </tr>\n",
       "    <tr>\n",
       "      <th>2</th>\n",
       "      <td>ESP</td>\n",
       "      <td>Europe</td>\n",
       "      <td>Spain</td>\n",
       "      <td>2020-03-23</td>\n",
       "      <td>4.731071e+07</td>\n",
       "      <td>20228.000000</td>\n",
       "      <td>460.857143</td>\n",
       "      <td>1212.428571</td>\n",
       "      <td>0.015299</td>\n",
       "      <td>0.186409</td>\n",
       "      <td>0.021829</td>\n",
       "      <td>0.416</td>\n",
       "      <td>-0.555476</td>\n",
       "    </tr>\n",
       "    <tr>\n",
       "      <th>3</th>\n",
       "      <td>ESP</td>\n",
       "      <td>Europe</td>\n",
       "      <td>Spain</td>\n",
       "      <td>2020-03-24</td>\n",
       "      <td>4.730669e+07</td>\n",
       "      <td>23708.857143</td>\n",
       "      <td>674.571429</td>\n",
       "      <td>1537.428571</td>\n",
       "      <td>0.017520</td>\n",
       "      <td>0.181782</td>\n",
       "      <td>0.011625</td>\n",
       "      <td>0.427</td>\n",
       "      <td>-0.563095</td>\n",
       "    </tr>\n",
       "    <tr>\n",
       "      <th>4</th>\n",
       "      <td>ESP</td>\n",
       "      <td>Europe</td>\n",
       "      <td>Spain</td>\n",
       "      <td>2020-03-25</td>\n",
       "      <td>4.730161e+07</td>\n",
       "      <td>28077.142857</td>\n",
       "      <td>960.714286</td>\n",
       "      <td>1969.428571</td>\n",
       "      <td>0.017607</td>\n",
       "      <td>0.173246</td>\n",
       "      <td>0.001421</td>\n",
       "      <td>0.433</td>\n",
       "      <td>-0.570714</td>\n",
       "    </tr>\n",
       "  </tbody>\n",
       "</table>\n",
       "</div>"
      ],
      "text/plain": [
       "  ISO_code Continent Country/Region        Date  Susceptibles Smooth (S)  \\\n",
       "0      ESP    Europe          Spain  2020-03-21             4.731731e+07   \n",
       "1      ESP    Europe          Spain  2020-03-22             4.731431e+07   \n",
       "2      ESP    Europe          Spain  2020-03-23             4.731071e+07   \n",
       "3      ESP    Europe          Spain  2020-03-24             4.730669e+07   \n",
       "4      ESP    Europe          Spain  2020-03-25             4.730161e+07   \n",
       "\n",
       "   Infected Smooth (I)  Recovered Smooth (R)  Deaths Smooth (D)  Mu Smooth  \\\n",
       "0         14340.142857            247.000000         719.285714   0.014040   \n",
       "1         17042.285714            328.714286         931.142857   0.015943   \n",
       "2         20228.000000            460.857143        1212.428571   0.015299   \n",
       "3         23708.857143            674.571429        1537.428571   0.017520   \n",
       "4         28077.142857            960.714286        1969.428571   0.017607   \n",
       "\n",
       "   Beta Smooth  Gamma Smooth  Positive Test Rate Smooth  Mobility Rate Smooth  \n",
       "0     0.193532      0.042238                      0.395             -0.528571  \n",
       "1     0.190061      0.032033                      0.406             -0.545714  \n",
       "2     0.186409      0.021829                      0.416             -0.555476  \n",
       "3     0.181782      0.011625                      0.427             -0.563095  \n",
       "4     0.173246      0.001421                      0.433             -0.570714  "
      ]
     },
     "execution_count": 5,
     "metadata": {},
     "output_type": "execute_result"
    }
   ],
   "source": [
    "df.head()"
   ]
  },
  {
   "cell_type": "code",
   "execution_count": 6,
   "id": "9828084e",
   "metadata": {},
   "outputs": [
    {
     "data": {
      "text/html": [
       "<div>\n",
       "<style scoped>\n",
       "    .dataframe tbody tr th:only-of-type {\n",
       "        vertical-align: middle;\n",
       "    }\n",
       "\n",
       "    .dataframe tbody tr th {\n",
       "        vertical-align: top;\n",
       "    }\n",
       "\n",
       "    .dataframe thead th {\n",
       "        text-align: right;\n",
       "    }\n",
       "</style>\n",
       "<table border=\"1\" class=\"dataframe\">\n",
       "  <thead>\n",
       "    <tr style=\"text-align: right;\">\n",
       "      <th></th>\n",
       "      <th>ISO_code</th>\n",
       "      <th>Continent</th>\n",
       "      <th>Country/Region</th>\n",
       "      <th>Date</th>\n",
       "      <th>Susceptibles Smooth (S)</th>\n",
       "      <th>Infected Smooth (I)</th>\n",
       "      <th>Recovered Smooth (R)</th>\n",
       "      <th>Deaths Smooth (D)</th>\n",
       "      <th>Mu Smooth</th>\n",
       "      <th>Beta Smooth</th>\n",
       "      <th>Gamma Smooth</th>\n",
       "      <th>Positive Test Rate Smooth</th>\n",
       "      <th>Mobility Rate Smooth</th>\n",
       "    </tr>\n",
       "  </thead>\n",
       "  <tbody>\n",
       "    <tr>\n",
       "      <th>723</th>\n",
       "      <td>ESP</td>\n",
       "      <td>Europe</td>\n",
       "      <td>Spain</td>\n",
       "      <td>2022-03-14</td>\n",
       "      <td>3.604191e+07</td>\n",
       "      <td>253374.142857</td>\n",
       "      <td>1.093435e+07</td>\n",
       "      <td>102986.857143</td>\n",
       "      <td>0.000311</td>\n",
       "      <td>0.068976</td>\n",
       "      <td>0.077341</td>\n",
       "      <td>0.173</td>\n",
       "      <td>-0.062619</td>\n",
       "    </tr>\n",
       "    <tr>\n",
       "      <th>724</th>\n",
       "      <td>ESP</td>\n",
       "      <td>Europe</td>\n",
       "      <td>Spain</td>\n",
       "      <td>2022-03-15</td>\n",
       "      <td>3.602755e+07</td>\n",
       "      <td>245554.857143</td>\n",
       "      <td>1.095644e+07</td>\n",
       "      <td>103066.428571</td>\n",
       "      <td>0.000243</td>\n",
       "      <td>0.070035</td>\n",
       "      <td>0.077100</td>\n",
       "      <td>0.174</td>\n",
       "      <td>-0.069048</td>\n",
       "    </tr>\n",
       "    <tr>\n",
       "      <th>725</th>\n",
       "      <td>ESP</td>\n",
       "      <td>Europe</td>\n",
       "      <td>Spain</td>\n",
       "      <td>2022-03-16</td>\n",
       "      <td>3.601634e+07</td>\n",
       "      <td>236758.285714</td>\n",
       "      <td>1.097639e+07</td>\n",
       "      <td>103127.000000</td>\n",
       "      <td>0.000197</td>\n",
       "      <td>0.077156</td>\n",
       "      <td>0.078181</td>\n",
       "      <td>0.176</td>\n",
       "      <td>-0.075476</td>\n",
       "    </tr>\n",
       "    <tr>\n",
       "      <th>726</th>\n",
       "      <td>ESP</td>\n",
       "      <td>Europe</td>\n",
       "      <td>Spain</td>\n",
       "      <td>2022-03-17</td>\n",
       "      <td>3.600835e+07</td>\n",
       "      <td>226561.428571</td>\n",
       "      <td>1.099453e+07</td>\n",
       "      <td>103175.428571</td>\n",
       "      <td>0.000391</td>\n",
       "      <td>0.090718</td>\n",
       "      <td>0.079748</td>\n",
       "      <td>0.177</td>\n",
       "      <td>-0.080476</td>\n",
       "    </tr>\n",
       "    <tr>\n",
       "      <th>727</th>\n",
       "      <td>ESP</td>\n",
       "      <td>Europe</td>\n",
       "      <td>Spain</td>\n",
       "      <td>2022-03-18</td>\n",
       "      <td>3.599397e+07</td>\n",
       "      <td>223446.285714</td>\n",
       "      <td>1.101194e+07</td>\n",
       "      <td>103256.571429</td>\n",
       "      <td>0.000391</td>\n",
       "      <td>0.093870</td>\n",
       "      <td>0.081923</td>\n",
       "      <td>0.178</td>\n",
       "      <td>-0.076190</td>\n",
       "    </tr>\n",
       "  </tbody>\n",
       "</table>\n",
       "</div>"
      ],
      "text/plain": [
       "    ISO_code Continent Country/Region        Date  Susceptibles Smooth (S)  \\\n",
       "723      ESP    Europe          Spain  2022-03-14             3.604191e+07   \n",
       "724      ESP    Europe          Spain  2022-03-15             3.602755e+07   \n",
       "725      ESP    Europe          Spain  2022-03-16             3.601634e+07   \n",
       "726      ESP    Europe          Spain  2022-03-17             3.600835e+07   \n",
       "727      ESP    Europe          Spain  2022-03-18             3.599397e+07   \n",
       "\n",
       "     Infected Smooth (I)  Recovered Smooth (R)  Deaths Smooth (D)  Mu Smooth  \\\n",
       "723        253374.142857          1.093435e+07      102986.857143   0.000311   \n",
       "724        245554.857143          1.095644e+07      103066.428571   0.000243   \n",
       "725        236758.285714          1.097639e+07      103127.000000   0.000197   \n",
       "726        226561.428571          1.099453e+07      103175.428571   0.000391   \n",
       "727        223446.285714          1.101194e+07      103256.571429   0.000391   \n",
       "\n",
       "     Beta Smooth  Gamma Smooth  Positive Test Rate Smooth  \\\n",
       "723     0.068976      0.077341                      0.173   \n",
       "724     0.070035      0.077100                      0.174   \n",
       "725     0.077156      0.078181                      0.176   \n",
       "726     0.090718      0.079748                      0.177   \n",
       "727     0.093870      0.081923                      0.178   \n",
       "\n",
       "     Mobility Rate Smooth  \n",
       "723             -0.062619  \n",
       "724             -0.069048  \n",
       "725             -0.075476  \n",
       "726             -0.080476  \n",
       "727             -0.076190  "
      ]
     },
     "execution_count": 6,
     "metadata": {},
     "output_type": "execute_result"
    }
   ],
   "source": [
    "df.tail()"
   ]
  },
  {
   "cell_type": "code",
   "execution_count": 7,
   "id": "a663f1c1",
   "metadata": {},
   "outputs": [
    {
     "data": {
      "text/plain": [
       "(728, 13)"
      ]
     },
     "execution_count": 7,
     "metadata": {},
     "output_type": "execute_result"
    }
   ],
   "source": [
    "df.shape"
   ]
  },
  {
   "cell_type": "code",
   "execution_count": 8,
   "id": "dd632dd4",
   "metadata": {},
   "outputs": [
    {
     "data": {
      "text/plain": [
       "False"
      ]
     },
     "execution_count": 8,
     "metadata": {},
     "output_type": "execute_result"
    }
   ],
   "source": [
    "# Checking for no null values\n",
    "df.isnull().values.any()"
   ]
  },
  {
   "cell_type": "code",
   "execution_count": 9,
   "id": "c072cfd9",
   "metadata": {},
   "outputs": [
    {
     "data": {
      "text/html": [
       "<div>\n",
       "<style scoped>\n",
       "    .dataframe tbody tr th:only-of-type {\n",
       "        vertical-align: middle;\n",
       "    }\n",
       "\n",
       "    .dataframe tbody tr th {\n",
       "        vertical-align: top;\n",
       "    }\n",
       "\n",
       "    .dataframe thead th {\n",
       "        text-align: right;\n",
       "    }\n",
       "</style>\n",
       "<table border=\"1\" class=\"dataframe\">\n",
       "  <thead>\n",
       "    <tr style=\"text-align: right;\">\n",
       "      <th></th>\n",
       "      <th>Susceptibles Smooth (S)</th>\n",
       "      <th>Infected Smooth (I)</th>\n",
       "      <th>Recovered Smooth (R)</th>\n",
       "      <th>Deaths Smooth (D)</th>\n",
       "      <th>Mu Smooth</th>\n",
       "      <th>Beta Smooth</th>\n",
       "      <th>Gamma Smooth</th>\n",
       "      <th>Positive Test Rate Smooth</th>\n",
       "      <th>Mobility Rate Smooth</th>\n",
       "    </tr>\n",
       "  </thead>\n",
       "  <tbody>\n",
       "    <tr>\n",
       "      <th>count</th>\n",
       "      <td>7.280000e+02</td>\n",
       "      <td>7.280000e+02</td>\n",
       "      <td>7.280000e+02</td>\n",
       "      <td>728.000000</td>\n",
       "      <td>728.000000</td>\n",
       "      <td>728.000000</td>\n",
       "      <td>728.000000</td>\n",
       "      <td>728.000000</td>\n",
       "      <td>728.000000</td>\n",
       "    </tr>\n",
       "    <tr>\n",
       "      <th>mean</th>\n",
       "      <td>4.400581e+07</td>\n",
       "      <td>2.142017e+05</td>\n",
       "      <td>3.049870e+06</td>\n",
       "      <td>62736.653454</td>\n",
       "      <td>0.002118</td>\n",
       "      <td>0.083144</td>\n",
       "      <td>0.067927</td>\n",
       "      <td>0.111666</td>\n",
       "      <td>-0.109044</td>\n",
       "    </tr>\n",
       "    <tr>\n",
       "      <th>std</th>\n",
       "      <td>2.876306e+06</td>\n",
       "      <td>3.453587e+05</td>\n",
       "      <td>2.664096e+06</td>\n",
       "      <td>27530.805178</td>\n",
       "      <td>0.004744</td>\n",
       "      <td>0.025321</td>\n",
       "      <td>0.024817</td>\n",
       "      <td>0.088658</td>\n",
       "      <td>0.152279</td>\n",
       "    </tr>\n",
       "    <tr>\n",
       "      <th>min</th>\n",
       "      <td>3.599397e+07</td>\n",
       "      <td>3.541143e+03</td>\n",
       "      <td>2.470000e+02</td>\n",
       "      <td>719.285714</td>\n",
       "      <td>0.000000</td>\n",
       "      <td>0.038871</td>\n",
       "      <td>0.000573</td>\n",
       "      <td>0.015000</td>\n",
       "      <td>-0.606190</td>\n",
       "    </tr>\n",
       "    <tr>\n",
       "      <th>25%</th>\n",
       "      <td>4.232895e+07</td>\n",
       "      <td>5.069346e+04</td>\n",
       "      <td>4.541741e+05</td>\n",
       "      <td>32070.000000</td>\n",
       "      <td>0.000326</td>\n",
       "      <td>0.065003</td>\n",
       "      <td>0.051538</td>\n",
       "      <td>0.051000</td>\n",
       "      <td>-0.155595</td>\n",
       "    </tr>\n",
       "    <tr>\n",
       "      <th>50%</th>\n",
       "      <td>4.404678e+07</td>\n",
       "      <td>1.034210e+05</td>\n",
       "      <td>3.146161e+06</td>\n",
       "      <td>74554.857143</td>\n",
       "      <td>0.000801</td>\n",
       "      <td>0.078661</td>\n",
       "      <td>0.069257</td>\n",
       "      <td>0.085000</td>\n",
       "      <td>-0.073690</td>\n",
       "    </tr>\n",
       "    <tr>\n",
       "      <th>75%</th>\n",
       "      <td>4.671294e+07</td>\n",
       "      <td>2.243792e+05</td>\n",
       "      <td>4.853970e+06</td>\n",
       "      <td>87463.464286</td>\n",
       "      <td>0.001323</td>\n",
       "      <td>0.095254</td>\n",
       "      <td>0.085458</td>\n",
       "      <td>0.137250</td>\n",
       "      <td>-0.016429</td>\n",
       "    </tr>\n",
       "    <tr>\n",
       "      <th>max</th>\n",
       "      <td>4.731731e+07</td>\n",
       "      <td>1.816501e+06</td>\n",
       "      <td>1.101194e+07</td>\n",
       "      <td>103256.571429</td>\n",
       "      <td>0.037187</td>\n",
       "      <td>0.193532</td>\n",
       "      <td>0.142449</td>\n",
       "      <td>0.434000</td>\n",
       "      <td>0.091429</td>\n",
       "    </tr>\n",
       "  </tbody>\n",
       "</table>\n",
       "</div>"
      ],
      "text/plain": [
       "       Susceptibles Smooth (S)  Infected Smooth (I)  Recovered Smooth (R)  \\\n",
       "count             7.280000e+02         7.280000e+02          7.280000e+02   \n",
       "mean              4.400581e+07         2.142017e+05          3.049870e+06   \n",
       "std               2.876306e+06         3.453587e+05          2.664096e+06   \n",
       "min               3.599397e+07         3.541143e+03          2.470000e+02   \n",
       "25%               4.232895e+07         5.069346e+04          4.541741e+05   \n",
       "50%               4.404678e+07         1.034210e+05          3.146161e+06   \n",
       "75%               4.671294e+07         2.243792e+05          4.853970e+06   \n",
       "max               4.731731e+07         1.816501e+06          1.101194e+07   \n",
       "\n",
       "       Deaths Smooth (D)   Mu Smooth  Beta Smooth  Gamma Smooth  \\\n",
       "count         728.000000  728.000000   728.000000    728.000000   \n",
       "mean        62736.653454    0.002118     0.083144      0.067927   \n",
       "std         27530.805178    0.004744     0.025321      0.024817   \n",
       "min           719.285714    0.000000     0.038871      0.000573   \n",
       "25%         32070.000000    0.000326     0.065003      0.051538   \n",
       "50%         74554.857143    0.000801     0.078661      0.069257   \n",
       "75%         87463.464286    0.001323     0.095254      0.085458   \n",
       "max        103256.571429    0.037187     0.193532      0.142449   \n",
       "\n",
       "       Positive Test Rate Smooth  Mobility Rate Smooth  \n",
       "count                 728.000000            728.000000  \n",
       "mean                    0.111666             -0.109044  \n",
       "std                     0.088658              0.152279  \n",
       "min                     0.015000             -0.606190  \n",
       "25%                     0.051000             -0.155595  \n",
       "50%                     0.085000             -0.073690  \n",
       "75%                     0.137250             -0.016429  \n",
       "max                     0.434000              0.091429  "
      ]
     },
     "execution_count": 9,
     "metadata": {},
     "output_type": "execute_result"
    }
   ],
   "source": [
    "# Description of the dataframe\n",
    "df.describe()"
   ]
  },
  {
   "cell_type": "code",
   "execution_count": 10,
   "id": "157d91af",
   "metadata": {},
   "outputs": [
    {
     "data": {
      "text/html": [
       "<div>\n",
       "<style scoped>\n",
       "    .dataframe tbody tr th:only-of-type {\n",
       "        vertical-align: middle;\n",
       "    }\n",
       "\n",
       "    .dataframe tbody tr th {\n",
       "        vertical-align: top;\n",
       "    }\n",
       "\n",
       "    .dataframe thead th {\n",
       "        text-align: right;\n",
       "    }\n",
       "</style>\n",
       "<table border=\"1\" class=\"dataframe\">\n",
       "  <thead>\n",
       "    <tr style=\"text-align: right;\">\n",
       "      <th></th>\n",
       "      <th>Susceptibles Smooth (S)</th>\n",
       "      <th>Infected Smooth (I)</th>\n",
       "      <th>Recovered Smooth (R)</th>\n",
       "      <th>Deaths Smooth (D)</th>\n",
       "      <th>Mu Smooth</th>\n",
       "      <th>Beta Smooth</th>\n",
       "      <th>Gamma Smooth</th>\n",
       "      <th>Positive Test Rate Smooth</th>\n",
       "      <th>Mobility Rate Smooth</th>\n",
       "    </tr>\n",
       "  </thead>\n",
       "  <tbody>\n",
       "    <tr>\n",
       "      <th>Susceptibles Smooth (S)</th>\n",
       "      <td>1.000000</td>\n",
       "      <td>-0.585322</td>\n",
       "      <td>-0.994648</td>\n",
       "      <td>-0.883504</td>\n",
       "      <td>0.334709</td>\n",
       "      <td>0.034476</td>\n",
       "      <td>0.038632</td>\n",
       "      <td>-0.336594</td>\n",
       "      <td>-0.486470</td>\n",
       "    </tr>\n",
       "    <tr>\n",
       "      <th>Infected Smooth (I)</th>\n",
       "      <td>-0.585322</td>\n",
       "      <td>1.000000</td>\n",
       "      <td>0.498491</td>\n",
       "      <td>0.369686</td>\n",
       "      <td>-0.190543</td>\n",
       "      <td>-0.051914</td>\n",
       "      <td>-0.259344</td>\n",
       "      <td>0.718151</td>\n",
       "      <td>0.101318</td>\n",
       "    </tr>\n",
       "    <tr>\n",
       "      <th>Recovered Smooth (R)</th>\n",
       "      <td>-0.994648</td>\n",
       "      <td>0.498491</td>\n",
       "      <td>1.000000</td>\n",
       "      <td>0.895622</td>\n",
       "      <td>-0.332133</td>\n",
       "      <td>-0.030403</td>\n",
       "      <td>-0.009610</td>\n",
       "      <td>0.269802</td>\n",
       "      <td>0.505201</td>\n",
       "    </tr>\n",
       "    <tr>\n",
       "      <th>Deaths Smooth (D)</th>\n",
       "      <td>-0.883504</td>\n",
       "      <td>0.369686</td>\n",
       "      <td>0.895622</td>\n",
       "      <td>1.000000</td>\n",
       "      <td>-0.439034</td>\n",
       "      <td>-0.008694</td>\n",
       "      <td>0.147159</td>\n",
       "      <td>0.048984</td>\n",
       "      <td>0.666280</td>\n",
       "    </tr>\n",
       "    <tr>\n",
       "      <th>Mu Smooth</th>\n",
       "      <td>0.334709</td>\n",
       "      <td>-0.190543</td>\n",
       "      <td>-0.332133</td>\n",
       "      <td>-0.439034</td>\n",
       "      <td>1.000000</td>\n",
       "      <td>0.034889</td>\n",
       "      <td>-0.026215</td>\n",
       "      <td>0.039396</td>\n",
       "      <td>-0.527138</td>\n",
       "    </tr>\n",
       "    <tr>\n",
       "      <th>Beta Smooth</th>\n",
       "      <td>0.034476</td>\n",
       "      <td>-0.051914</td>\n",
       "      <td>-0.030403</td>\n",
       "      <td>-0.008694</td>\n",
       "      <td>0.034889</td>\n",
       "      <td>1.000000</td>\n",
       "      <td>0.223547</td>\n",
       "      <td>0.287647</td>\n",
       "      <td>0.070637</td>\n",
       "    </tr>\n",
       "    <tr>\n",
       "      <th>Gamma Smooth</th>\n",
       "      <td>0.038632</td>\n",
       "      <td>-0.259344</td>\n",
       "      <td>-0.009610</td>\n",
       "      <td>0.147159</td>\n",
       "      <td>-0.026215</td>\n",
       "      <td>0.223547</td>\n",
       "      <td>1.000000</td>\n",
       "      <td>-0.355434</td>\n",
       "      <td>0.332849</td>\n",
       "    </tr>\n",
       "    <tr>\n",
       "      <th>Positive Test Rate Smooth</th>\n",
       "      <td>-0.336594</td>\n",
       "      <td>0.718151</td>\n",
       "      <td>0.269802</td>\n",
       "      <td>0.048984</td>\n",
       "      <td>0.039396</td>\n",
       "      <td>0.287647</td>\n",
       "      <td>-0.355434</td>\n",
       "      <td>1.000000</td>\n",
       "      <td>-0.264946</td>\n",
       "    </tr>\n",
       "    <tr>\n",
       "      <th>Mobility Rate Smooth</th>\n",
       "      <td>-0.486470</td>\n",
       "      <td>0.101318</td>\n",
       "      <td>0.505201</td>\n",
       "      <td>0.666280</td>\n",
       "      <td>-0.527138</td>\n",
       "      <td>0.070637</td>\n",
       "      <td>0.332849</td>\n",
       "      <td>-0.264946</td>\n",
       "      <td>1.000000</td>\n",
       "    </tr>\n",
       "  </tbody>\n",
       "</table>\n",
       "</div>"
      ],
      "text/plain": [
       "                           Susceptibles Smooth (S)  Infected Smooth (I)  \\\n",
       "Susceptibles Smooth (S)                   1.000000            -0.585322   \n",
       "Infected Smooth (I)                      -0.585322             1.000000   \n",
       "Recovered Smooth (R)                     -0.994648             0.498491   \n",
       "Deaths Smooth (D)                        -0.883504             0.369686   \n",
       "Mu Smooth                                 0.334709            -0.190543   \n",
       "Beta Smooth                               0.034476            -0.051914   \n",
       "Gamma Smooth                              0.038632            -0.259344   \n",
       "Positive Test Rate Smooth                -0.336594             0.718151   \n",
       "Mobility Rate Smooth                     -0.486470             0.101318   \n",
       "\n",
       "                           Recovered Smooth (R)  Deaths Smooth (D)  Mu Smooth  \\\n",
       "Susceptibles Smooth (S)               -0.994648          -0.883504   0.334709   \n",
       "Infected Smooth (I)                    0.498491           0.369686  -0.190543   \n",
       "Recovered Smooth (R)                   1.000000           0.895622  -0.332133   \n",
       "Deaths Smooth (D)                      0.895622           1.000000  -0.439034   \n",
       "Mu Smooth                             -0.332133          -0.439034   1.000000   \n",
       "Beta Smooth                           -0.030403          -0.008694   0.034889   \n",
       "Gamma Smooth                          -0.009610           0.147159  -0.026215   \n",
       "Positive Test Rate Smooth              0.269802           0.048984   0.039396   \n",
       "Mobility Rate Smooth                   0.505201           0.666280  -0.527138   \n",
       "\n",
       "                           Beta Smooth  Gamma Smooth  \\\n",
       "Susceptibles Smooth (S)       0.034476      0.038632   \n",
       "Infected Smooth (I)          -0.051914     -0.259344   \n",
       "Recovered Smooth (R)         -0.030403     -0.009610   \n",
       "Deaths Smooth (D)            -0.008694      0.147159   \n",
       "Mu Smooth                     0.034889     -0.026215   \n",
       "Beta Smooth                   1.000000      0.223547   \n",
       "Gamma Smooth                  0.223547      1.000000   \n",
       "Positive Test Rate Smooth     0.287647     -0.355434   \n",
       "Mobility Rate Smooth          0.070637      0.332849   \n",
       "\n",
       "                           Positive Test Rate Smooth  Mobility Rate Smooth  \n",
       "Susceptibles Smooth (S)                    -0.336594             -0.486470  \n",
       "Infected Smooth (I)                         0.718151              0.101318  \n",
       "Recovered Smooth (R)                        0.269802              0.505201  \n",
       "Deaths Smooth (D)                           0.048984              0.666280  \n",
       "Mu Smooth                                   0.039396             -0.527138  \n",
       "Beta Smooth                                 0.287647              0.070637  \n",
       "Gamma Smooth                               -0.355434              0.332849  \n",
       "Positive Test Rate Smooth                   1.000000             -0.264946  \n",
       "Mobility Rate Smooth                       -0.264946              1.000000  "
      ]
     },
     "execution_count": 10,
     "metadata": {},
     "output_type": "execute_result"
    }
   ],
   "source": [
    "df.corr()"
   ]
  },
  {
   "cell_type": "code",
   "execution_count": 11,
   "id": "80ea29b9",
   "metadata": {},
   "outputs": [],
   "source": [
    "labels = ['Susceptibles Smooth (S)', 'Infected Smooth (I)', 'Recovered Smooth (R)', 'Deahts Smooth (D)', \n",
    "         'Positive Test Rate Smooth', 'Mobility Rate Smooth']"
   ]
  },
  {
   "cell_type": "markdown",
   "id": "60aa4707",
   "metadata": {},
   "source": [
    "## 2. Data Preprocessing"
   ]
  },
  {
   "cell_type": "code",
   "execution_count": 12,
   "id": "ae364cc3",
   "metadata": {},
   "outputs": [
    {
     "name": "stdout",
     "output_type": "stream",
     "text": [
      "47317307.57142858 14340.142857142857 247.0 719.2857142857142 0.395 -0.5285714285714286 2020-03-21\n"
     ]
    },
    {
     "data": {
      "text/plain": [
       "((728,), (728,), (728,), (728,), (728,), (728,), (728,))"
      ]
     },
     "execution_count": 12,
     "metadata": {},
     "output_type": "execute_result"
    }
   ],
   "source": [
    "# Obtaining data values\n",
    "S = df[\"Susceptibles Smooth (S)\"].values\n",
    "I = df[\"Infected Smooth (I)\"].values\n",
    "R = df[\"Recovered Smooth (R)\"].values\n",
    "D = df[\"Deaths Smooth (D)\"].values\n",
    "Test = df[\"Positive Test Rate Smooth\"].values\n",
    "Mobility = df[\"Mobility Rate Smooth\"].values\n",
    "date = df[\"Date\"].values\n",
    "\n",
    "print(S[0], I[0], R[0], D[0], Test[0], Mobility[0], date[0])\n",
    "S.shape, I.shape, R.shape, D.shape, Test.shape, Mobility.shape, date.shape"
   ]
  },
  {
   "cell_type": "code",
   "execution_count": 13,
   "id": "538c1bef",
   "metadata": {},
   "outputs": [
    {
     "name": "stdout",
     "output_type": "stream",
     "text": [
      "0.0140397953403922 0.1935317998669637 0.0422375080523535\n"
     ]
    },
    {
     "data": {
      "text/plain": [
       "((728,), (728,), (728,))"
      ]
     },
     "execution_count": 13,
     "metadata": {},
     "output_type": "execute_result"
    }
   ],
   "source": [
    "# Obtaining target values\n",
    "mu = df[\"Mu Smooth\"].values\n",
    "beta = df[\"Beta Smooth\"].values\n",
    "gamma = df[\"Gamma Smooth\"].values\n",
    "\n",
    "print(mu[0], beta[0], gamma[0])\n",
    "mu.shape, beta.shape, gamma.shape"
   ]
  },
  {
   "cell_type": "markdown",
   "id": "e56dc688",
   "metadata": {},
   "source": [
    "**Merging features values and target values in separate arrays:**"
   ]
  },
  {
   "cell_type": "code",
   "execution_count": 14,
   "id": "2da1e976",
   "metadata": {},
   "outputs": [
    {
     "data": {
      "text/plain": [
       "((728, 6),\n",
       " array([[ 4.73173076e+07,  1.43401429e+04,  2.47000000e+02,\n",
       "          7.19285714e+02,  3.95000000e-01, -5.28571429e-01],\n",
       "        [ 4.73143119e+07,  1.70422857e+04,  3.28714286e+02,\n",
       "          9.31142857e+02,  4.06000000e-01, -5.45714286e-01],\n",
       "        [ 4.73107127e+07,  2.02280000e+04,  4.60857143e+02,\n",
       "          1.21242857e+03,  4.16000000e-01, -5.55476190e-01],\n",
       "        [ 4.73066931e+07,  2.37088571e+04,  6.74571429e+02,\n",
       "          1.53742857e+03,  4.27000000e-01, -5.63095238e-01],\n",
       "        [ 4.73016067e+07,  2.80771429e+04,  9.60714286e+02,\n",
       "          1.96942857e+03,  4.33000000e-01, -5.70714286e-01]]))"
      ]
     },
     "execution_count": 14,
     "metadata": {},
     "output_type": "execute_result"
    }
   ],
   "source": [
    "# X_total array\n",
    "columns = 6\n",
    "X_total = np.empty((len(S), columns))\n",
    "\n",
    "for i in range(len(X_total)):\n",
    "    X_total[i] = [S[i], I[i], R[i], D[i], Test[i], Mobility[i]]\n",
    "\n",
    "X_total.shape, X_total[0:5]"
   ]
  },
  {
   "cell_type": "code",
   "execution_count": 15,
   "id": "db6bfad3",
   "metadata": {},
   "outputs": [
    {
     "data": {
      "text/plain": [
       "((728, 3),\n",
       " array([[0.1935318 , 0.04223751, 0.0140398 ],\n",
       "        [0.19006098, 0.03203343, 0.01594338],\n",
       "        [0.18640881, 0.02182934, 0.01529925],\n",
       "        [0.18178154, 0.01162526, 0.01751999],\n",
       "        [0.1732455 , 0.00142118, 0.01760706]]))"
      ]
     },
     "execution_count": 15,
     "metadata": {},
     "output_type": "execute_result"
    }
   ],
   "source": [
    "# y_total array\n",
    "columns = 3\n",
    "y_total = np.empty((len(mu), columns))\n",
    "\n",
    "for i in range(len(y_total)):\n",
    "    y_total[i] = [beta[i], gamma[i], mu[i]]\n",
    "\n",
    "y_total.shape, y_total[0:5]"
   ]
  },
  {
   "cell_type": "markdown",
   "id": "18bf2aa3",
   "metadata": {},
   "source": [
    "**Subset of total data:**"
   ]
  },
  {
   "cell_type": "code",
   "execution_count": 16,
   "id": "a39a97d3",
   "metadata": {},
   "outputs": [
    {
     "name": "stdout",
     "output_type": "stream",
     "text": [
      "Initial day is assumed 0. You only need to introduce the number of total data to use.\n",
      "\n",
      "Introduce the total number of data to use for the deep learning process. Notice that the data will be splitted into train and test.\n",
      "600\n",
      "[ 4.22189907e+07  2.83105714e+04  4.99586100e+06  8.94517143e+04\n",
      "  3.70000000e-02 -1.80952381e-02] [0.11218209 0.09414399 0.0008645 ] 2021-11-10\n"
     ]
    },
    {
     "data": {
      "text/plain": [
       "((600, 6), (600, 3), (600,))"
      ]
     },
     "execution_count": 16,
     "metadata": {},
     "output_type": "execute_result"
    }
   ],
   "source": [
    "# Introduce the total number of data to use\n",
    "# ni = int(input(\"Introduce the initial number you want to start your deep learning process\\n\"))\n",
    "ni = 0\n",
    "print(\"Initial day is assumed 0. You only need to introduce the number of total data to use.\\n\")\n",
    "nd = int(input(\"Introduce the total number of data to use for the deep learning process. Notice that the data will be \"\n",
    "           \"splitted into train and test.\\n\"))\n",
    "\n",
    "# Subset of total data\n",
    "X_deep = X_total[ni:ni+nd]\n",
    "y_deep = y_total[ni:ni+nd]\n",
    "date_deep = date[ni:ni+nd]\n",
    "\n",
    "print(X_deep[-1], y_deep[-1], date_deep[-1])\n",
    "X_deep.shape, y_deep.shape, date_deep.shape"
   ]
  },
  {
   "cell_type": "code",
   "execution_count": 17,
   "id": "902d5756",
   "metadata": {},
   "outputs": [
    {
     "data": {
      "text/plain": [
       "((600, 1),\n",
       " array([[0.04223751],\n",
       "        [0.03203343],\n",
       "        [0.02182934],\n",
       "        [0.01162526],\n",
       "        [0.00142118],\n",
       "        [0.00274484],\n",
       "        [0.01223833],\n",
       "        [0.0243893 ],\n",
       "        [0.03863908],\n",
       "        [0.05799722]]))"
      ]
     },
     "execution_count": 17,
     "metadata": {},
     "output_type": "execute_result"
    }
   ],
   "source": [
    "# Selecting only the gamma parameter as the unic target value\n",
    "y_deep_gamma = np.empty((len(y_deep), 1))\n",
    "\n",
    "for i in range(len(y_deep)):\n",
    "    y_deep_gamma[i] = y_deep[i][1]\n",
    "\n",
    "y_deep_gamma.shape, y_deep_gamma[0:10]"
   ]
  },
  {
   "cell_type": "markdown",
   "id": "98ecd669",
   "metadata": {},
   "source": [
    "**Cut time series data into sequences:**"
   ]
  },
  {
   "cell_type": "code",
   "execution_count": 18,
   "id": "c51ad59d",
   "metadata": {
    "scrolled": true
   },
   "outputs": [
    {
     "name": "stdout",
     "output_type": "stream",
     "text": [
      "Introduce the length of the temporal series\n",
      "7\n"
     ]
    },
    {
     "data": {
      "text/plain": [
       "(593, 593, (7, 6), (1,))"
      ]
     },
     "execution_count": 18,
     "metadata": {},
     "output_type": "execute_result"
    }
   ],
   "source": [
    "# Definition of the time step\n",
    "\n",
    "time_steps = int(input(\"Introduce the length of the temporal series\\n\"))\n",
    "possible_time_steps = time_steps\n",
    "\n",
    "X_deep_series = np.empty((len(X_deep) - time_steps, time_steps, 6))\n",
    "y_deep_gamma_series = np.empty(((len(y_deep_gamma) - time_steps, 1)))\n",
    "\n",
    "# Creation of the sequential X and y data\n",
    "for i in range(0, len(X_deep) - time_steps, 1):\n",
    "    X_deep_series[i] = X_deep[i:(i+time_steps)]\n",
    "    y_deep_gamma_series[i] = y_deep_gamma[(i+time_steps)-1]\n",
    "    \n",
    "len(X_deep_series), len(y_deep_gamma_series), X_deep_series[0].shape, y_deep_gamma_series[0].shape"
   ]
  },
  {
   "cell_type": "markdown",
   "id": "f71fee79",
   "metadata": {},
   "source": [
    "**Cross-validation generator:**"
   ]
  },
  {
   "cell_type": "code",
   "execution_count": 19,
   "id": "eed3d17a",
   "metadata": {},
   "outputs": [],
   "source": [
    "# GroupShuffleSplit definition for cross-validation\n",
    "from sklearn.model_selection import GroupShuffleSplit\n",
    "\n",
    "groups = np.arange(len(X_deep_series))\n",
    "splits = 5\n",
    "gss = GroupShuffleSplit(n_splits=splits, train_size=.8, random_state=42)"
   ]
  },
  {
   "cell_type": "markdown",
   "id": "df7b1da6",
   "metadata": {},
   "source": [
    "**Standardization of datasets:**"
   ]
  },
  {
   "cell_type": "code",
   "execution_count": 20,
   "id": "17b8e0de",
   "metadata": {},
   "outputs": [],
   "source": [
    "def standarize(X_train, X_test, y_train_gamma, y_test_gamma):\n",
    "\n",
    "    # https://scikit-learn.org/stable/modules/generated/sklearn.preprocessing.StandardScaler.html#sklearn.preprocessing.StandardScaler\n",
    "    # StandardScaler: Standardize features by removing the mean and scaling to unit variance\n",
    "    from sklearn.preprocessing import StandardScaler\n",
    "\n",
    "    # Definition of two scaler objects: one for the features and another for the targets\n",
    "    feature_scaler = StandardScaler()\n",
    "    target_scaler = StandardScaler()\n",
    "\n",
    "    # Fit and transform of the objects from the train data\n",
    "    X_train_S = feature_scaler.fit_transform(X_train.reshape(-1, X_train.shape[-1])).reshape(X_train.shape)\n",
    "    y_train_gamma_S = target_scaler.fit_transform(y_train_gamma)\n",
    "\n",
    "    # # Transform of the train data\n",
    "    # X_train_S = feature_scaler.transform(X_train.reshape(-1, X_train.shape[-1])).reshape(X_train.shape)\n",
    "    # y_train_gamma_S = target_scaler.transform(y_train_gamma.reshape(-1, X_train.shape[-1])).reshape(y_train_gamma.shape)\n",
    "\n",
    "    # Transform of the test data\n",
    "    X_test_S = feature_scaler.transform(X_test.reshape(-1, X_test.shape[-1])).reshape(X_test.shape)\n",
    "    y_test_gamma_S = target_scaler.transform(y_test_gamma)\n",
    "    \n",
    "    return(feature_scaler, target_scaler, X_train_S, y_train_gamma_S, X_test_S, y_test_gamma_S)"
   ]
  },
  {
   "cell_type": "markdown",
   "id": "73ad5743",
   "metadata": {},
   "source": [
    "## 3. Deep Learning Sequential Model Definition"
   ]
  },
  {
   "cell_type": "code",
   "execution_count": 21,
   "id": "5267fc6c",
   "metadata": {},
   "outputs": [],
   "source": [
    "# Neuron parameters\n",
    "neu = (128, 64)"
   ]
  },
  {
   "cell_type": "code",
   "execution_count": 22,
   "id": "420ed589",
   "metadata": {},
   "outputs": [],
   "source": [
    "# Dropout percentage parameter\n",
    "drop_perc = 0.4"
   ]
  },
  {
   "cell_type": "code",
   "execution_count": 23,
   "id": "fb11efd1",
   "metadata": {},
   "outputs": [],
   "source": [
    "# Activation functions parameters\n",
    "activation = [('relu', 'relu')]"
   ]
  },
  {
   "cell_type": "code",
   "execution_count": 24,
   "id": "a9b02daf",
   "metadata": {},
   "outputs": [],
   "source": [
    "# Loss function parameter\n",
    "loss = 'mse'"
   ]
  },
  {
   "cell_type": "code",
   "execution_count": 25,
   "id": "1bc4bb1c",
   "metadata": {},
   "outputs": [],
   "source": [
    "# Function for creating the DL sequential model\n",
    "def dl_model(train_data, y_train, test_data, y_test, neuron, act_fun, drop_perc, loss_fun):\n",
    "    from keras.layers import Dense, LSTM, Dropout\n",
    "    \n",
    "    model = keras.Sequential()\n",
    "    model.add(LSTM(neuron[0], activation=act_fun[0], return_sequences=True, input_shape=train_data.shape[1:]))\n",
    "    model.add(Dropout(drop_perc))\n",
    "    model.add(LSTM(neuron[1], activation=act_fun[1], return_sequences=False))\n",
    "    model.add(Dropout(drop_perc))\n",
    "    model.add(Dense(units=1, activation='linear'))\n",
    "    \n",
    "    # opt = tf.keras.optimizers.Adam(learning_rate=1e-3, decay=1e-5)\n",
    "    model.compile(optimizer='adam', loss=loss_fun, metrics=[loss_fun])\n",
    "    \n",
    "    return(model)"
   ]
  },
  {
   "cell_type": "code",
   "execution_count": 26,
   "id": "00d22abe",
   "metadata": {},
   "outputs": [],
   "source": [
    "# Function to train the model\n",
    "def train_evaluate(model, X_train_S, y_train_gamma_S, X_test_S, y_test_gamma_S):\n",
    "    \n",
    "    history = model.fit(X_train_S, y_train_gamma_S, epochs = 3000, verbose = 0, validation_data = (X_test_S, y_test_gamma_S))\n",
    "\n",
    "    # Testing data prediction\n",
    "    y_pred = model(X_test_S)\n",
    "    y_pred_inv = target_scaler.inverse_transform(y_pred)\n",
    "\n",
    "    # Testing original\n",
    "    y_test_gamma_series_inv = target_scaler.inverse_transform(y_test_gamma_S)\n",
    "    \n",
    "    # Errors array\n",
    "    error_square = np.empty(len(y_pred), dtype=float)\n",
    "    for i in range(len(y_pred)):\n",
    "        error_square[i] = (y_pred_inv[i] - y_test_gamma_series_inv[i])**2\n",
    "    \n",
    "    # MSE and RMSE value\n",
    "    MSE = np.mean(error_square)\n",
    "    RMSE = np.sqrt(MSE)\n",
    "    \n",
    "    # STD and VAR value\n",
    "    STD = np.std(error_square)\n",
    "    VAR = np.var(error_square)\n",
    "    \n",
    "    return (MSE, RMSE, STD, VAR, history)"
   ]
  },
  {
   "cell_type": "code",
   "execution_count": 27,
   "id": "43763f0f",
   "metadata": {},
   "outputs": [
    {
     "name": "stdout",
     "output_type": "stream",
     "text": [
      "Cross validation round 1 completed!\n",
      "Cross validation round 2 completed!\n",
      "Cross validation round 3 completed!\n",
      "Cross validation round 4 completed!\n",
      "Cross validation round 5 completed!\n"
     ]
    }
   ],
   "source": [
    "for act in activation:\n",
    "    \n",
    "    scores_MSE = np.empty(splits, dtype=float)\n",
    "    scores_RMSE = np.empty(splits, dtype=float)\n",
    "    scores_STD = np.empty(splits, dtype=float)\n",
    "    scores_VAR = np.empty(splits, dtype=float)\n",
    "    idx = 0\n",
    "    \n",
    "    # Train-Test split with the cross-validator generator (5 splits)\n",
    "    for train_idx, test_idx in gss.split(X_deep_series, y_deep_gamma_series, groups):\n",
    "\n",
    "        # Remove previous models\n",
    "        if 'model' in locals():\n",
    "            del(model)\n",
    "\n",
    "        # Train set\n",
    "        X_train = X_deep_series[train_idx]\n",
    "        y_train_gamma = y_deep_gamma_series[train_idx]\n",
    "\n",
    "        # Test set\n",
    "        X_test = X_deep_series[test_idx]\n",
    "        y_test_gamma = y_deep_gamma_series[test_idx]\n",
    "\n",
    "        # Standarization\n",
    "        feature_scaler, target_scaler, X_train_S, y_train_gamma_S, X_test_S, y_test_gamma_S = standarize(X_train, X_test, \n",
    "                                                                                                       y_train_gamma, y_test_gamma)\n",
    "\n",
    "        # Method parameters summary\n",
    "        combination = ('gamma_tstep_' + str(X_train.shape[1]) + '-neu_' + str(neu) + '-drop_' +  str(drop_perc) + '-act_' + \n",
    "                       str(act) + '-loss_' + str(loss) + '-crossval_gamma')\n",
    "\n",
    "        # Running DL model\n",
    "        model = dl_model(X_train_S, y_train_gamma_S, X_test_S, y_test_gamma_S, neu, act, drop_perc, loss)\n",
    "        MSE, RMSE, STD, VAR, history = train_evaluate(model, X_train_S, y_train_gamma_S, X_test_S, y_test_gamma_S)\n",
    "\n",
    "        # Adding MSE and RMSE mean value of the DL model prediction\n",
    "        scores_MSE[idx] = MSE\n",
    "        scores_RMSE[idx] = RMSE\n",
    "        scores_STD[idx] = STD\n",
    "        scores_VAR[idx] = VAR\n",
    "        \n",
    "        idx += 1\n",
    "\n",
    "        # Print when an iteration has ended\n",
    "        print(\"Cross validation round {} completed!\".format(idx))\n",
    "    \n",
    "    # Saving MSE and RMSE data in file text for every combination\n",
    "    file_name = combination + '.txt'\n",
    "    file = open(file_name, \"w+\")\n",
    "\n",
    "    file.write('MSE' + '\\t' + 'RMSE' + '\\n')\n",
    "    for MSE_val, RMSE_val in zip(scores_MSE, scores_RMSE):\n",
    "        line = str(MSE_val) + '\\t' + str(RMSE_val)\n",
    "        file.write(line + '\\n')\n",
    "    file.write('\\n' + 'Mean MSE' + '\\t' + 'Mean RMSE' + '\\t' + 'Mean STD' + '\\t' + 'Mean VAR' + '\\n')\n",
    "    file.write(str(np.mean(scores_MSE)) + '\\t' + str(np.mean(scores_RMSE)) + '\\t' + str(np.mean(scores_STD)) + '\\t' + str(np.mean(scores_VAR)))\n",
    "    \n",
    "    file.close()\n",
    "    clear_output(wait=True)"
   ]
  },
  {
   "cell_type": "code",
   "execution_count": 28,
   "id": "e5724398",
   "metadata": {},
   "outputs": [
    {
     "data": {
      "image/png": "[encoded data removed]",
      "text/plain": [
       "<Figure size 432x288 with 1 Axes>"
      ]
     },
     "metadata": {
      "needs_background": "light"
     },
     "output_type": "display_data"
    }
   ],
   "source": [
    "# Summarize history for loss\n",
    "plt.plot(history.history['loss'], label = 'train')\n",
    "plt.plot(history.history['val_loss'], label='test')\n",
    "plt.title('Model loss')\n",
    "plt.ylabel('Loss')\n",
    "plt.xlabel('Epoch')\n",
    "plt.legend(loc='upper right')\n",
    "plt.show()"
   ]
  },
  {
   "cell_type": "code",
   "execution_count": 29,
   "id": "d7815be7",
   "metadata": {},
   "outputs": [
    {
     "data": {
      "image/png": "[encoded data removed]",
      "text/plain": [
       "<Figure size 432x288 with 1 Axes>"
      ]
     },
     "metadata": {
      "needs_background": "light"
     },
     "output_type": "display_data"
    }
   ],
   "source": [
    "# Training data prediction\n",
    "y_train_gamma_pred = model.predict(X_train_S)\n",
    "y_train_gamma_pred_inv = target_scaler.inverse_transform(y_train_gamma_pred)\n",
    "\n",
    "# Training original\n",
    "y_train_gamma_series_inv = target_scaler.inverse_transform(y_train_gamma_S)\n",
    "\n",
    "# Training prediction comparison VS real training data\n",
    "plt.plot(y_train_gamma_series_inv, '.', markersize=4, label='Real')\n",
    "plt.plot(y_train_gamma_pred_inv, '.', markersize=4, label='Pred')\n",
    "plt.title('Y train')\n",
    "plt.ylabel('Gamma [1/day]')\n",
    "plt.xlabel('Train set data point')\n",
    "plt.legend(loc='best')\n",
    "plt.show()"
   ]
  },
  {
   "cell_type": "code",
   "execution_count": 30,
   "id": "adbde0f1",
   "metadata": {},
   "outputs": [
    {
     "data": {
      "image/png": "[encoded data removed]",
      "text/plain": [
       "<Figure size 432x288 with 1 Axes>"
      ]
     },
     "metadata": {
      "needs_background": "light"
     },
     "output_type": "display_data"
    }
   ],
   "source": [
    "# Testing data prediction\n",
    "y_pred = model.predict(X_test_S)\n",
    "y_pred_inv = target_scaler.inverse_transform(y_pred)\n",
    "\n",
    "# Testing original\n",
    "y_test_gamma_series_inv = target_scaler.inverse_transform(y_test_gamma_S)\n",
    "\n",
    "# Testing prediction comparison VS real testing data\n",
    "plt.plot(y_test_gamma_series_inv, '.', markersize=4, label='Real')\n",
    "plt.plot(y_pred_inv, '.', markersize=4, label='Pred')\n",
    "plt.title('Y test')\n",
    "plt.ylabel('Gamma [1/day]')\n",
    "plt.xlabel('Test set data point')\n",
    "plt.legend(loc='best')\n",
    "plt.show()"
   ]
  },
  {
   "cell_type": "code",
   "execution_count": 31,
   "id": "044bcd53",
   "metadata": {},
   "outputs": [
    {
     "data": {
      "text/plain": [
       "(474, 119)"
      ]
     },
     "execution_count": 31,
     "metadata": {},
     "output_type": "execute_result"
    }
   ],
   "source": [
    "len(X_train), len(X_test)"
   ]
  },
  {
   "cell_type": "code",
   "execution_count": 32,
   "id": "b35e573f",
   "metadata": {},
   "outputs": [
    {
     "data": {
      "text/plain": [
       "(array([  0,   2,   3,   4,   6,   7,   9,  10,  11,  12,  13,  16,  17,\n",
       "         18,  19,  20,  21,  22,  23,  24,  27,  28,  29,  31,  33,  34,\n",
       "         36,  37,  38,  39,  41,  42,  43,  44,  45,  46,  47,  48,  49,\n",
       "         50,  51,  53,  54,  55,  56,  57,  59,  60,  61,  62,  63,  64,\n",
       "         65,  66,  68,  69,  70,  71,  72,  73,  74,  75,  77,  78,  79,\n",
       "         80,  81,  82,  85,  86,  87,  89,  91,  92,  93,  94,  96,  98,\n",
       "         99, 100, 102, 103, 104, 106, 107, 108, 109, 110, 111, 112, 113,\n",
       "        115, 116, 117, 118, 119, 120, 121, 123, 124, 125, 127, 128, 129,\n",
       "        131, 132, 133, 134, 135, 136, 137, 138, 139, 142, 143, 144, 145,\n",
       "        146, 147, 148, 149, 150, 151, 152, 153, 154, 155, 157, 158, 159,\n",
       "        160, 161, 162, 163, 164, 166, 167, 168, 170, 171, 172, 173, 175,\n",
       "        176, 177, 179, 180, 181, 182, 183, 185, 186, 187, 188, 189, 190,\n",
       "        191, 195, 199, 201, 202, 203, 205, 208, 209, 210, 211, 212, 213,\n",
       "        214, 215, 216, 218, 219, 220, 221, 222, 223, 224, 225, 226, 227,\n",
       "        228, 229, 230, 231, 232, 233, 234, 235, 236, 237, 238, 239, 240,\n",
       "        241, 243, 245, 246, 247, 248, 251, 252, 253, 254, 255, 257, 258,\n",
       "        259, 260, 261, 262, 263, 265, 266, 267, 268, 269, 270, 272, 273,\n",
       "        275, 276, 277, 278, 281, 282, 283, 284, 286, 287, 288, 289, 290,\n",
       "        291, 294, 295, 296, 299, 300, 301, 304, 306, 307, 309, 310, 311,\n",
       "        312, 313, 314, 315, 316, 317, 318, 319, 320, 321, 322, 323, 325,\n",
       "        326, 328, 329, 332, 333, 335, 336, 337, 339, 340, 341, 342, 343,\n",
       "        344, 345, 346, 348, 349, 351, 352, 353, 354, 355, 356, 358, 359,\n",
       "        360, 361, 363, 364, 365, 366, 367, 369, 370, 371, 372, 373, 375,\n",
       "        376, 378, 379, 380, 381, 383, 384, 385, 386, 387, 388, 389, 391,\n",
       "        392, 393, 394, 395, 396, 397, 398, 399, 400, 401, 402, 403, 404,\n",
       "        405, 406, 408, 410, 412, 413, 414, 415, 416, 418, 419, 420, 421,\n",
       "        422, 424, 426, 427, 428, 429, 432, 434, 435, 436, 437, 438, 439,\n",
       "        441, 442, 443, 444, 445, 446, 447, 448, 449, 450, 452, 453, 454,\n",
       "        455, 456, 457, 458, 459, 460, 461, 462, 464, 465, 466, 467, 468,\n",
       "        469, 470, 471, 475, 476, 477, 478, 479, 480, 481, 482, 483, 485,\n",
       "        486, 487, 488, 489, 490, 491, 493, 495, 496, 497, 499, 500, 502,\n",
       "        503, 505, 506, 508, 510, 511, 512, 513, 514, 516, 517, 518, 519,\n",
       "        520, 521, 522, 524, 525, 526, 527, 528, 529, 530, 531, 533, 534,\n",
       "        536, 537, 538, 539, 540, 541, 542, 543, 544, 545, 546, 547, 548,\n",
       "        549, 550, 551, 552, 554, 555, 558, 559, 560, 561, 562, 563, 565,\n",
       "        566, 567, 568, 571, 575, 576, 577, 578, 580, 581, 582, 583, 584,\n",
       "        586, 587, 588, 590, 591, 592], dtype=int64),\n",
       " array([  1,   5,   8,  14,  15,  25,  26,  30,  32,  35,  40,  52,  58,\n",
       "         67,  76,  83,  84,  88,  90,  95,  97, 101, 105, 114, 122, 126,\n",
       "        130, 140, 141, 156, 165, 169, 174, 178, 184, 192, 193, 194, 196,\n",
       "        197, 198, 200, 204, 206, 207, 217, 242, 244, 249, 250, 256, 264,\n",
       "        271, 274, 279, 280, 285, 292, 293, 297, 298, 302, 303, 305, 308,\n",
       "        324, 327, 330, 331, 334, 338, 347, 350, 357, 362, 368, 374, 377,\n",
       "        382, 390, 407, 409, 411, 417, 423, 425, 430, 431, 433, 440, 451,\n",
       "        463, 472, 473, 474, 484, 492, 494, 498, 501, 504, 507, 509, 515,\n",
       "        523, 532, 535, 553, 556, 557, 564, 569, 570, 572, 573, 574, 579,\n",
       "        585, 589], dtype=int64))"
      ]
     },
     "execution_count": 32,
     "metadata": {},
     "output_type": "execute_result"
    }
   ],
   "source": [
    "train_idx, test_idx"
   ]
  }
 ],
 "metadata": {
  "kernelspec": {
   "display_name": "Python 3 (ipykernel)",
   "language": "python",
   "name": "python3"
  },
  "language_info": {
   "codemirror_mode": {
    "name": "ipython",
    "version": 3
   },
   "file_extension": ".py",
   "mimetype": "text/x-python",
   "name": "python",
   "nbconvert_exporter": "python",
   "pygments_lexer": "ipython3",
   "version": "3.9.12"
  }
 },
 "nbformat": 4,
 "nbformat_minor": 5
}
